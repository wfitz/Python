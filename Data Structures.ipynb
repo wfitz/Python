{
 "cells": [
  {
   "cell_type": "markdown",
   "metadata": {},
   "source": [
    "# General"
   ]
  },
  {
   "cell_type": "markdown",
   "metadata": {},
   "source": [
    "- The following jupyter notebooks are aimed at cpython implementation\n",
    "- Python is a dynamic pass by reference language... you can think of variable names as pointers to objects / data structures in memory (The heap in particular)\n",
    "- Every object has an identity, type, value, and reference count \n",
    "- In cpython id(x) is the memory address where the contents of variable x is stored"
   ]
  },
  {
   "cell_type": "code",
   "execution_count": null,
   "metadata": {},
   "outputs": [],
   "source": [
    "import sys\n",
    "example_string = \"Example string\"\n",
    "print(\"id:\", id(example_string))\n",
    "print(\"type:\", type(example_string))\n",
    "print(f\"value: '{example_string}'\")"
   ]
  },
  {
   "cell_type": "markdown",
   "metadata": {},
   "source": [
    "- Reference count acts a little odd in notebooks, as you can see below with count at 2, not 1..."
   ]
  },
  {
   "cell_type": "code",
   "execution_count": null,
   "metadata": {},
   "outputs": [],
   "source": [
    "sys.getrefcount(example_string) "
   ]
  },
  {
   "cell_type": "markdown",
   "metadata": {},
   "source": [
    "- Garbage collection (gc) in python works off reference counts\n",
    "- By default, gc frees the object's memory once reference count hits zero\n",
    "- Cyclical data structures like linked list are handled a bit differently\n",
    "- Easy to view variables alive in a notebook session as seen below... \n",
    "- See all jupyter magic commands with %lsmagic"
   ]
  },
  {
   "cell_type": "code",
   "execution_count": null,
   "metadata": {},
   "outputs": [],
   "source": [
    "%whos "
   ]
  },
  {
   "cell_type": "markdown",
   "metadata": {},
   "source": [
    "- Easy to view locals, globals, and builtins with following commands..."
   ]
  },
  {
   "cell_type": "code",
   "execution_count": null,
   "metadata": {
    "scrolled": false
   },
   "outputs": [],
   "source": [
    "#locals()\n",
    "#globals()\n",
    "#vars(__builtins__) # vars is similar to .__dict__ to view object's dictionary "
   ]
  },
  {
   "cell_type": "markdown",
   "metadata": {},
   "source": [
    "- Everything in python is an object! What does that mean??\n",
    "- Python objects themselves follow an inheritance structure\n",
    "- For example, items that are considered sequences, mappings, or sets all inherit properties from parent classes that allow the user to seamlessly use them... we'll elaborate on this examples in the following notebooks\n",
    "- All classes hold instance attributes in a dictionary, view these with vars(object)\n",
    "- I won't go into full details, but read more here... \n",
    "- https://docs.python.org/3/reference/datamodel.html\n",
    "- Inspect an object with ?? in notebooks"
   ]
  },
  {
   "cell_type": "code",
   "execution_count": null,
   "metadata": {},
   "outputs": [],
   "source": [
    "str.index??"
   ]
  },
  {
   "cell_type": "markdown",
   "metadata": {},
   "source": [
    "- View available . operations"
   ]
  },
  {
   "cell_type": "code",
   "execution_count": null,
   "metadata": {},
   "outputs": [],
   "source": [
    "dir(str)"
   ]
  },
  {
   "cell_type": "markdown",
   "metadata": {},
   "source": [
    "- See what operations are available to mappings in addition to basic objects\n",
    "- Sets explained more below..."
   ]
  },
  {
   "cell_type": "code",
   "execution_count": null,
   "metadata": {},
   "outputs": [],
   "source": [
    "from collections import abc\n",
    "set(dir(abc.Mapping)) - set(dir(object))"
   ]
  },
  {
   "cell_type": "markdown",
   "metadata": {},
   "source": [
    "- There are immutable and mutable data structures, a high level overview...\n",
    "- Immutable objects are fixed size and can not be modified in place\n",
    "- They also are \"hashable\" which is important in several places\n",
    "- When you \"change\" an immutable object it actually creates a new object and removes reference count by one to the previous data structure. This includes numbers, strings, tuples. \n",
    "- Mutable objects can be updated in place and generally have hidden free space for amortized addition of new data. This includes lists, dictionaries, and queues. "
   ]
  },
  {
   "cell_type": "markdown",
   "metadata": {},
   "source": [
    "# Select notes on primitives"
   ]
  },
  {
   "cell_type": "markdown",
   "metadata": {},
   "source": [
    "### Integer division in Python is always rounded towards minus infinity \n",
    "- Can cause some headaches if you're not aware of it...\n",
    "- To avoid this issue with negative numbers it's best to use int(result) to get the desired rounding down. \n",
    "- \"/\" is int division in 2, \"//\" is int division in 3\n",
    "- \"/\" is true division in python 3"
   ]
  },
  {
   "cell_type": "code",
   "execution_count": null,
   "metadata": {},
   "outputs": [],
   "source": [
    "print(\"True Division 7/4 : {}\".format(7/4))\n",
    "print(\"True Negative Division -7/4 : {}\".format(-7/4))\n",
    "print(\"Integer Division 7//4 : {}\\n\".format(7//4))\n",
    "\n",
    "print(\"Unexpected behavior:\")\n",
    "print(\"Integer Negative Division -7//4 : {}, rounds down negative\\n\".format(-7//4))\n",
    "\n",
    "print(\"Using int to round numbers down:\")\n",
    "print(\"int(1.75) : {}\".format(int(1.75)))\n",
    "print(\"int(-1.75) : {}\".format(int(-1.75)))"
   ]
  },
  {
   "cell_type": "code",
   "execution_count": null,
   "metadata": {},
   "outputs": [],
   "source": [
    "%%python2\n",
    "print 7/4"
   ]
  },
  {
   "cell_type": "markdown",
   "metadata": {},
   "source": [
    "### Floating point numbers are approximated depending on the system being used\n",
    "\n",
    "- This is because 2's compliment does not allow the same precision as base 10 notation\n",
    "- Use decimals when precision is necessary, or just use round(num, precision) for other cases"
   ]
  },
  {
   "cell_type": "code",
   "execution_count": null,
   "metadata": {},
   "outputs": [],
   "source": [
    "print(\"3 * .1 - .3 = {}\".format(3* .1 - .3)) \n",
    "print(\"Above using round(3* .1 - .3,2) : {}\\n\".format(round(3* .1 - .3,2)))\n",
    "\n",
    "from decimal import Decimal as D\n",
    "# Make sure you're using strings as input to Decimal... otherwise you hit the same issue\n",
    "print(\"Using Decimal with D('num') : 3 * .1 - .3 = {}\".format(D('3') * D('.1') - D('.3')))\n",
    "print(\"Using Decimal with D(num) : 3 * .1 - .3 = {}\".format(D(3) * D(.1) - D(.3)))"
   ]
  },
  {
   "cell_type": "markdown",
   "metadata": {},
   "source": [
    "### Joining Strings\n",
    "- 'character sequence to join around'.join(iterable of strings)\n",
    "- Much more effective than += str when done several times due to immutability "
   ]
  },
  {
   "cell_type": "code",
   "execution_count": null,
   "metadata": {},
   "outputs": [],
   "source": [
    "list_ = ['Who', 'are', 'you', 'who', 'are', 'so', 'wise', 'in', 'the', 'ways', 'of', 'science']\n",
    "joined = '+*> '.join(list_)\n",
    "print(joined)\n",
    "    \n",
    "# Takes any string iterable... using built in reversed function for example \n",
    "reverse = ' - '.join(reversed(list_)) \n",
    "print(reverse)"
   ]
  },
  {
   "cell_type": "markdown",
   "metadata": {},
   "source": [
    "- Print a row of items other than strings..\n",
    "- Print is a function in python 3, so we can use optional sep and end parameters"
   ]
  },
  {
   "cell_type": "code",
   "execution_count": null,
   "metadata": {},
   "outputs": [],
   "source": [
    "row = ['test', 50, 22, ['a','b']]\n",
    "print(*row, sep=', ', end = '!!\\n' )    "
   ]
  },
  {
   "cell_type": "markdown",
   "metadata": {},
   "source": [
    "### F strings \n",
    "\n",
    "- Python 3.6+    \n",
    "- Pythonic string handling\n",
    "- allows for variables, functions, and other object operations in {}  \n",
    "- Significantly more readable vs % and .format options when calling lots of arguments  \n",
    "- Still can use \\__format__ special handling"
   ]
  },
  {
   "cell_type": "code",
   "execution_count": null,
   "metadata": {},
   "outputs": [],
   "source": [
    "print(f\"Operations are valid in curly brackets 3 + 4 = {3+4}, like this\")"
   ]
  },
  {
   "cell_type": "code",
   "execution_count": null,
   "metadata": {},
   "outputs": [],
   "source": [
    "def unnecessary_function(input_):\n",
    "    return input_\n",
    "\n",
    "question = \"Why don't you just make .format() louder?\"\n",
    "print(f\"{question} \\nfstrings go to {unnecessary_function(11)}...\") "
   ]
  },
  {
   "cell_type": "code",
   "execution_count": null,
   "metadata": {},
   "outputs": [],
   "source": [
    "x = 20\n",
    "print(f\"formatting still works... {x*2 :03d}\")"
   ]
  },
  {
   "cell_type": "markdown",
   "metadata": {},
   "source": [
    "# Data Structures\n",
    "\n",
    "- Time complexity list here for those interested: https://wiki.python.org/moin/TimeComplexity"
   ]
  },
  {
   "cell_type": "markdown",
   "metadata": {},
   "source": [
    "### Lists\n",
    "\n",
    "- Container structure capable of holding nested and mixed data types\n",
    "- Mutable, so can be updated in place and has overhead free space for amortized adding of elements\n",
    "- Created with [] notation\n",
    "- Use from collections import UserList as a parent class to make your own list like object... "
   ]
  },
  {
   "cell_type": "code",
   "execution_count": null,
   "metadata": {},
   "outputs": [],
   "source": [
    "example = ['abc', (1234, 'list'), 23.12, True]\n",
    "for item in example: # item is an arbitrary name, use name makes the most sense in the context of the loop \n",
    "    print(item)"
   ]
  },
  {
   "cell_type": "markdown",
   "metadata": {},
   "source": [
    "- Available options for lists"
   ]
  },
  {
   "cell_type": "code",
   "execution_count": null,
   "metadata": {
    "scrolled": false
   },
   "outputs": [],
   "source": [
    "dir(example)\n",
    "#example.sort??"
   ]
  },
  {
   "cell_type": "markdown",
   "metadata": {},
   "source": [
    "##### Adding to a list is less strait forward than one might think...\n",
    "- list_object = list_object + list_to_add is resembles to calling .\\__add__, which returns a completely new list\n",
    "- list_object += list_to_add resembles \\__iadd__, which modifies the list in place. (.append & .extends also modify in place)\n",
    "- Not taking care of this difference can be very costly depending on list size or implementation \n",
    "- View these in http://pythontutor.com/ if any confusion... "
   ]
  },
  {
   "cell_type": "code",
   "execution_count": null,
   "metadata": {},
   "outputs": [],
   "source": [
    "print(id(example))\n",
    "example = example + [\"new list\"]\n",
    "print(example)\n",
    "print(id(example))"
   ]
  },
  {
   "cell_type": "code",
   "execution_count": null,
   "metadata": {},
   "outputs": [],
   "source": [
    "print(id(example))\n",
    "example += [\"in place\"]\n",
    "print(example)\n",
    "print(id(example))"
   ]
  },
  {
   "cell_type": "code",
   "execution_count": null,
   "metadata": {},
   "outputs": [],
   "source": [
    "print(id(example))\n",
    "example.extend([0, 1, 2, 3]) \n",
    "print(example)\n",
    "print(id(example))"
   ]
  },
  {
   "cell_type": "markdown",
   "metadata": {},
   "source": [
    "- Mutable sequences can easily be modified with slicing\n",
    "- We'll get into slicing later if this is unclear"
   ]
  },
  {
   "cell_type": "code",
   "execution_count": null,
   "metadata": {},
   "outputs": [],
   "source": [
    "example[1:8] = [2,4,5]\n",
    "example"
   ]
  },
  {
   "cell_type": "markdown",
   "metadata": {},
   "source": [
    "- Don't forget python builtins are available for usage as well... "
   ]
  },
  {
   "cell_type": "code",
   "execution_count": null,
   "metadata": {},
   "outputs": [],
   "source": [
    "max([1,5,7,233,23,12,78,45])"
   ]
  },
  {
   "cell_type": "markdown",
   "metadata": {},
   "source": [
    "### Deques\n",
    "\n",
    "- A list like container with fast appends and pops on either end... Notice speed difference vs list for ordered updates. This is due to the fact a list moves every item when inserting to the front O(N) where as deque just changes the pointer O(1). \n",
    "- Popping and adding items from either end of a deque is O(1)\n",
    "- Other queues https://docs.python.org/3/library/queue.html\n",
    "- Append and popleft operations are atomic \n",
    "- Mutable\n"
   ]
  },
  {
   "cell_type": "code",
   "execution_count": null,
   "metadata": {},
   "outputs": [],
   "source": [
    "nums = [x for x in range(20000)]"
   ]
  },
  {
   "cell_type": "code",
   "execution_count": null,
   "metadata": {},
   "outputs": [],
   "source": [
    "%%timeit\n",
    "nums.pop(0)\n",
    "nums.insert(0, 10)"
   ]
  },
  {
   "cell_type": "code",
   "execution_count": null,
   "metadata": {},
   "outputs": [],
   "source": [
    "from collections import deque\n",
    "nums = deque(x for x in range(20000))\n",
    "#dir(deque)"
   ]
  },
  {
   "cell_type": "code",
   "execution_count": null,
   "metadata": {},
   "outputs": [],
   "source": [
    "%%timeit\n",
    "nums.popleft()\n",
    "nums.appendleft(10)"
   ]
  },
  {
   "cell_type": "markdown",
   "metadata": {},
   "source": [
    "### Tuples \n",
    "\n",
    "- Immutable structure also able to handle multiple data types\n",
    "- Tuples have a smaller memory footprint vs lists\n",
    "- Being immutable, tuples are space allocated on the number of assignments at creation, no more\n",
    "- A few items in python that are tuples... function arguments, return statements with multiple values, etc\n",
    "- Created with (), (\"single\",), or tuple()"
   ]
  },
  {
   "cell_type": "markdown",
   "metadata": {},
   "source": [
    "- Extras in a list not in a tuple... \n"
   ]
  },
  {
   "cell_type": "code",
   "execution_count": null,
   "metadata": {},
   "outputs": [],
   "source": [
    "set(dir(list))-set(dir(tuple))"
   ]
  },
  {
   "cell_type": "code",
   "execution_count": null,
   "metadata": {},
   "outputs": [],
   "source": [
    "dir(tuple)"
   ]
  },
  {
   "cell_type": "code",
   "execution_count": null,
   "metadata": {},
   "outputs": [],
   "source": [
    "example = ('green', True, 'Howdy!', 11)\n",
    "example"
   ]
  },
  {
   "cell_type": "markdown",
   "metadata": {},
   "source": [
    "- Tuple unpacking, also works with lists"
   ]
  },
  {
   "cell_type": "code",
   "execution_count": null,
   "metadata": {},
   "outputs": [],
   "source": [
    "color, boolean, greeting, answer = example \n",
    "print(greeting)"
   ]
  },
  {
   "cell_type": "markdown",
   "metadata": {},
   "source": [
    "##### Tuples are immutable, but ones containing mutable objects can be mutated\n",
    "\n",
    "- Lists inside tuples are just pointers, if those underlying lists are modified so are the tuples\n",
    "- These are surprisingly not atomic... if you attempt to update a tuple index that is mutable it will be updated, but will also raise an error since tuples shouldn't be updated"
   ]
  },
  {
   "cell_type": "code",
   "execution_count": null,
   "metadata": {},
   "outputs": [],
   "source": [
    "list_ = [1,2,3,4]\n",
    "tup = ('Green', list_, 'Howdy!', 7)\n",
    "print(id(tup), tup)\n",
    "\n",
    "list_.append(5) \n",
    "print(id(tup), tup) # !!"
   ]
  },
  {
   "cell_type": "markdown",
   "metadata": {},
   "source": [
    "- Calling the tuple directly will raise an error, but it will update the value of the list inside"
   ]
  },
  {
   "cell_type": "code",
   "execution_count": null,
   "metadata": {},
   "outputs": [],
   "source": [
    "tup[1] += [10]"
   ]
  },
  {
   "cell_type": "code",
   "execution_count": null,
   "metadata": {},
   "outputs": [],
   "source": [
    "tup"
   ]
  },
  {
   "cell_type": "markdown",
   "metadata": {},
   "source": [
    "### Named tuples\n",
    "\n",
    "- Tuple with naming additions to make code indexes more readable. Still keeps a low memory profile like normal tuples.     \n",
    "- Most of the time you can get away with a dictionary if you don't need immutability or low footprint, but none the less a useful data structure\n",
    "- There are two types of named tuples... from collections module and typed\n",
    "- Handles a lot of built in logic such as value comparison for you\n",
    "- Acts just like a regular tuple for the most part\n",
    "- Immutable "
   ]
  },
  {
   "cell_type": "code",
   "execution_count": null,
   "metadata": {},
   "outputs": [],
   "source": [
    "import typing\n",
    "import collections"
   ]
  },
  {
   "cell_type": "code",
   "execution_count": null,
   "metadata": {},
   "outputs": [],
   "source": [
    "Employee = typing.NamedTuple('Employee', name=str, age=int, title=str, pay=int)\n",
    "Worker = collections.namedtuple('Worker', 'name, age, title, pay')"
   ]
  },
  {
   "cell_type": "code",
   "execution_count": null,
   "metadata": {},
   "outputs": [],
   "source": [
    "print(set(dir(Employee)) - set(dir(Worker)))\n",
    "#dir(Worker)"
   ]
  },
  {
   "cell_type": "code",
   "execution_count": null,
   "metadata": {},
   "outputs": [],
   "source": [
    "raw_list = [\"Chris\", 49, \"Engineer\", 190000]\n",
    "from_typed = Employee(\"Chris\", 49, \"Engineer\", \"190000\")\n",
    "from_collections = Worker(\"Chris\", 49, \"Engineer\", 190000)"
   ]
  },
  {
   "cell_type": "code",
   "execution_count": null,
   "metadata": {},
   "outputs": [],
   "source": [
    "from_typed"
   ]
  },
  {
   "cell_type": "code",
   "execution_count": null,
   "metadata": {},
   "outputs": [],
   "source": [
    "import sys\n",
    "print(f\"Size of raw_list: {sys.getsizeof(raw_list)}\")\n",
    "print(f\"Size of from_typed: {sys.getsizeof(from_typed)}\")\n",
    "print(f\"Size of from_collections: {sys.getsizeof(from_collections)}\")"
   ]
  },
  {
   "cell_type": "markdown",
   "metadata": {},
   "source": [
    "- Instead of calling by index we can now use the name specified for the named tuple"
   ]
  },
  {
   "cell_type": "code",
   "execution_count": null,
   "metadata": {},
   "outputs": [],
   "source": [
    "print(f\"Age : {from_collections.age}\") # This versus doing example[1]"
   ]
  },
  {
   "cell_type": "markdown",
   "metadata": {},
   "source": [
    "- Using _replace to update a field returns a new namedtuple object as expected with immutable types"
   ]
  },
  {
   "cell_type": "code",
   "execution_count": null,
   "metadata": {},
   "outputs": [],
   "source": [
    "print(id(from_collections))\n",
    "from_collections = from_collections._replace(age=33)\n",
    "print(from_collections)\n",
    "print(id(from_collections)) "
   ]
  },
  {
   "cell_type": "code",
   "execution_count": null,
   "metadata": {},
   "outputs": [],
   "source": [
    "dir(from_collections)"
   ]
  },
  {
   "cell_type": "markdown",
   "metadata": {},
   "source": [
    "- All regular tuple functions should still work"
   ]
  },
  {
   "cell_type": "code",
   "execution_count": null,
   "metadata": {},
   "outputs": [],
   "source": [
    "for entry in from_collections:\n",
    "    print(entry)"
   ]
  },
  {
   "cell_type": "markdown",
   "metadata": {},
   "source": [
    "### Dictionaries \n",
    "\n",
    "- The workhorse of python\n",
    "- Use version 3.6 to get best performance for dictionaries (3.5 key sharing, 3.6 compact dict)\n",
    "- Lots of items in python make heavy usage of dictionaries including classes\n",
    "- Collections class has a UserDict as well for creating your own dictionary implementation "
   ]
  },
  {
   "cell_type": "code",
   "execution_count": null,
   "metadata": {},
   "outputs": [],
   "source": [
    "dict1 = dict(A=1, Z=-1)\n",
    "dict2 = {'A': 1, 'Z': -1}\n",
    "dict3 = dict(zip(['A', 'Z'], [1, -1]))\n",
    "dict4 = dict([('A', 1), ('Z', -1)])\n",
    "dict5 = dict({'Z': -1, 'A': 1})\n",
    "\n",
    "print(dict1 == dict2 == dict3 == dict4 == dict5)\n",
    "#dir(dict)"
   ]
  },
  {
   "cell_type": "markdown",
   "metadata": {},
   "source": [
    "- keys(), .values(), and .items() return instances of classes called dict_keys, dict_values, and dict_items\n",
    "- These are dict views that are read only of the internal structures\n",
    "- In python 2 these calls returned duplicate data in list format\n",
    "- iteritems is also no longer an options in py 3"
   ]
  },
  {
   "cell_type": "code",
   "execution_count": null,
   "metadata": {},
   "outputs": [],
   "source": [
    "citizens = {'Belgium' : 'Isabella', 'British': 'Nathan', 'Swiss' : 'Ranik', 'Nepal' : 'Sarala'}\n",
    "print(f\"Keys: {citizens.keys()}\")\n",
    "print(f\"Values: {citizens.values()}\")\n",
    "print(f\"Items: {citizens.items()}\") "
   ]
  },
  {
   "cell_type": "markdown",
   "metadata": {},
   "source": [
    "- Membership check using \\__contains__ is O(1) for dict keys since it is a hashmap\n",
    "- No need for using .keys() unless it's a special case, such as to avoid infinite loops in magic methods"
   ]
  },
  {
   "cell_type": "code",
   "execution_count": null,
   "metadata": {},
   "outputs": [],
   "source": [
    "if 'Belgium' in citizens:\n",
    "    print(True)"
   ]
  },
  {
   "cell_type": "markdown",
   "metadata": {},
   "source": [
    "- Operations that allow setting or getting default values without receiving key value errors\n",
    "- \\__missing__ is a magic method we'll explore more later for similar cases"
   ]
  },
  {
   "cell_type": "code",
   "execution_count": null,
   "metadata": {},
   "outputs": [],
   "source": [
    "value = citizens.pop('British', 'return this instead')\n",
    "print(value)\n",
    "print(citizens)"
   ]
  },
  {
   "cell_type": "markdown",
   "metadata": {},
   "source": [
    "• Get value if exist, but don't modify the dictionary "
   ]
  },
  {
   "cell_type": "code",
   "execution_count": null,
   "metadata": {},
   "outputs": [],
   "source": [
    "value = citizens.get('British', 'Not present')\n",
    "print(value)\n",
    "print(citizens)"
   ]
  },
  {
   "cell_type": "markdown",
   "metadata": {},
   "source": [
    "• Use setdefault to check for a key and add it to the dictionary if not\n"
   ]
  },
  {
   "cell_type": "code",
   "execution_count": null,
   "metadata": {},
   "outputs": [],
   "source": [
    "value = citizens.setdefault('British', 'Nathan')\n",
    "print(value)\n",
    "print(citizens)"
   ]
  },
  {
   "cell_type": "markdown",
   "metadata": {},
   "source": [
    "• Also can use .setdefault to call functions    \n",
    "• Say for instance you wanted to update personal cache with a call to a database... "
   ]
  },
  {
   "cell_type": "code",
   "execution_count": null,
   "metadata": {},
   "outputs": [],
   "source": [
    "def fake_database_call(country):    \n",
    "    return \"Nathan\"\n",
    "\n",
    "citizens.setdefault(\"British\", fake_database_call(\"British\"))  \n",
    "print(citizens)"
   ]
  },
  {
   "cell_type": "markdown",
   "metadata": {},
   "source": [
    "• Upgrade multiple items at once"
   ]
  },
  {
   "cell_type": "code",
   "execution_count": null,
   "metadata": {},
   "outputs": [],
   "source": [
    "citizens.update({\n",
    "    \"British\" : \"New\",\n",
    "    \"Portugal\" : \"Timon\"\n",
    "})\n",
    "citizens"
   ]
  },
  {
   "cell_type": "markdown",
   "metadata": {},
   "source": [
    "- Standard way of updating single items"
   ]
  },
  {
   "cell_type": "code",
   "execution_count": null,
   "metadata": {},
   "outputs": [],
   "source": [
    "citizens[\"British\"] = \"Chip\"\n",
    "citizens"
   ]
  },
  {
   "cell_type": "markdown",
   "metadata": {},
   "source": [
    "- Can do logical operations on keys, values, items "
   ]
  },
  {
   "cell_type": "code",
   "execution_count": null,
   "metadata": {},
   "outputs": [],
   "source": [
    "default = {\"output\" : \"internal speakers\" , \"volume\" : \".1\", \"equalizer\" : \"lounge\"}\n",
    "user = {'output' : \"headphones\", \"volume\" : \".2\", \"equalizer\" : \"lounge\", \"playback speed\" : \".5\"}\n",
    "\n",
    "print('Common keys:', default.keys() & user.keys())\n",
    "print('Keys from user not in default :', user.keys() - default.keys())\n",
    "print('Key, value pairs in common:', default.items() & user.items())"
   ]
  },
  {
   "cell_type": "markdown",
   "metadata": {},
   "source": [
    "- Merge two dictionaries and keep write info\n",
    "- Useful in areas where you might want local and global settings with local taking priority..."
   ]
  },
  {
   "cell_type": "code",
   "execution_count": null,
   "metadata": {},
   "outputs": [],
   "source": [
    "default = {\"output\" : \"internal speakers\" , \"volume\" : \".1\", \"equalizer\" : \"lounge\"}\n",
    "user = {\"output\" : \"headphones\", \"volume\" : \".2\", \"equializer\" : \"lounge\", \"playback speed\" : \".5\"}\n",
    "\n",
    "from collections import ChainMap\n",
    "chained = ChainMap(user, default)\n",
    "print(\"output:\", chained[\"output\"])      \n",
    "print(\"volume:\", chained[\"volume\"])     \n",
    "print(\"equalizer:\", chained[\"equalizer\"])    \n",
    "print(chained)"
   ]
  },
  {
   "cell_type": "markdown",
   "metadata": {},
   "source": [
    "• Checking multiple layers deep or return 'Not in dictionary', Elasticsearch gold for avoiding key value errors..."
   ]
  },
  {
   "cell_type": "code",
   "execution_count": null,
   "metadata": {},
   "outputs": [],
   "source": [
    "dictionary = {'_source' : {'results': 'All of the data', 'people': 'People info'}}\n",
    "people = dictionary.get('_source', {}).get('people', 'Not in dictionary')\n",
    "label = dictionary.get('_source', {}).setdefault('label', 'Not in dictionary')\n",
    "print(\"People : \", people)\n",
    "print(\"Label : \", label)"
   ]
  },
  {
   "cell_type": "markdown",
   "metadata": {},
   "source": [
    "- Using '' as a default return value we can also iterate on nested dictionary calls...    \n",
    "- Does not work if '' is replaced with a non iterable item such as None    "
   ]
  },
  {
   "cell_type": "code",
   "execution_count": null,
   "metadata": {},
   "outputs": [],
   "source": [
    "people = {'Tomas': [21, 'student'], 'Julio': [30, 'engineer'], 'Mike': [31, 'manager'], 'Mez': [30, 'artist', 'another']}\n",
    "people"
   ]
  },
  {
   "cell_type": "code",
   "execution_count": null,
   "metadata": {},
   "outputs": [],
   "source": [
    "for info in people.get('Mez'):\n",
    "    print(info)"
   ]
  },
  {
   "cell_type": "code",
   "execution_count": null,
   "metadata": {},
   "outputs": [],
   "source": [
    "for entity in people.get('NotPresent', ''): # If '' is changed to None this will crash\n",
    "    print(entity, end = ' ')"
   ]
  },
  {
   "cell_type": "markdown",
   "metadata": {},
   "source": [
    "### Collections module dictionary tools"
   ]
  },
  {
   "cell_type": "markdown",
   "metadata": {},
   "source": [
    "- Default dictionary, set default for every new key    "
   ]
  },
  {
   "cell_type": "code",
   "execution_count": null,
   "metadata": {},
   "outputs": [],
   "source": [
    "from collections import defaultdict\n",
    "ddict = defaultdict(int)  # int is the default type (0 the value)\n",
    "ddict['year'] += 1\n",
    "print(ddict['year'])\n",
    "\n",
    "ddict['year'] = 1999\n",
    "ddict['year'] += 1\n",
    "print(ddict['year'])\n",
    "#dir(ddict)"
   ]
  },
  {
   "cell_type": "markdown",
   "metadata": {},
   "source": [
    "- Collections counter for easy dictionary counts\n",
    "- Caution that most_common will not show all if multiple tied counts"
   ]
  },
  {
   "cell_type": "code",
   "execution_count": null,
   "metadata": {},
   "outputs": [],
   "source": [
    "from collections import Counter \n",
    "words = ['hello', 'how', 'are', 'you', 'doing']\n",
    "\n",
    "counts = Counter(words)\n",
    "print(counts)\n",
    "print(\"Most Common:\", counts.most_common(3))"
   ]
  },
  {
   "cell_type": "code",
   "execution_count": null,
   "metadata": {},
   "outputs": [],
   "source": [
    "more = ['add', 'how', 'are', 'words', 'here']\n",
    "\n",
    "counts.update(more)\n",
    "print(counts)\n",
    "print(\"Counts on 'my':\", counts['are'])"
   ]
  },
  {
   "cell_type": "code",
   "execution_count": null,
   "metadata": {},
   "outputs": [],
   "source": [
    "#dir(counts)\n",
    "counts.subtract??"
   ]
  },
  {
   "cell_type": "code",
   "execution_count": null,
   "metadata": {},
   "outputs": [],
   "source": [
    "counts.subtract(more)"
   ]
  },
  {
   "cell_type": "code",
   "execution_count": null,
   "metadata": {},
   "outputs": [],
   "source": [
    "print(counts)"
   ]
  },
  {
   "cell_type": "markdown",
   "metadata": {},
   "source": [
    "- Merge defaultdict and counter for extra power"
   ]
  },
  {
   "cell_type": "code",
   "execution_count": null,
   "metadata": {},
   "outputs": [],
   "source": [
    "from collections import Counter\n",
    "from collections import defaultdict\n",
    "ddict = defaultdict(Counter)\n",
    "\n",
    "ddict['nums'].update(['1', '2','3'])\n",
    "ddict['test'].update([\"this\", \"is\", \"nice\"])\n",
    "ddict['test'].update([\"this\", \"is\", \"nice\"])\n",
    "ddict['test'].update([\"this\", \"is\", \"nice\"])\n",
    "print(ddict)"
   ]
  },
  {
   "cell_type": "markdown",
   "metadata": {},
   "source": [
    "- Mapping proxy is a good way to return a read only dictionary\n",
    "- Dynamically references the underlying dict\n",
    "- Calling \\__setattr__ will always throw an error "
   ]
  },
  {
   "cell_type": "code",
   "execution_count": null,
   "metadata": {},
   "outputs": [],
   "source": [
    "from types import MappingProxyType # 3.3 +\n",
    "d = {1: 'A'}\n",
    "d_proxy = MappingProxyType(d)\n",
    "d_proxy"
   ]
  },
  {
   "cell_type": "code",
   "execution_count": null,
   "metadata": {},
   "outputs": [],
   "source": [
    "d_proxy['B'] = 2"
   ]
  },
  {
   "cell_type": "code",
   "execution_count": null,
   "metadata": {},
   "outputs": [],
   "source": [
    "from collections import UserDict\n",
    "UserDict??"
   ]
  },
  {
   "cell_type": "markdown",
   "metadata": {},
   "source": [
    "### Heaps \n",
    "\n",
    "• heapq is a heap for organizing min and max structures.     \n",
    "• O(log n) push and pop.     \n",
    "• O(n log n) to push all items on to the heap.     "
   ]
  },
  {
   "cell_type": "code",
   "execution_count": null,
   "metadata": {},
   "outputs": [],
   "source": [
    "import heapq\n",
    "\n",
    "rows = [\n",
    "    {'name': 'Steve', 'age': 19},\n",
    "    {'name': 'John', 'age': 24},\n",
    "    {'name': 'Sally', 'age': 24},\n",
    "    {'name': 'Ada', 'age': 23}\n",
    "]\n",
    "\n",
    "top_three = heapq.nsmallest(3, rows, key=lambda x: x['age'])"
   ]
  },
  {
   "cell_type": "code",
   "execution_count": null,
   "metadata": {},
   "outputs": [],
   "source": [
    "top_three"
   ]
  },
  {
   "cell_type": "markdown",
   "metadata": {},
   "source": [
    "### Sets\n",
    "- The set type is mutable, while frozenset is immutable\n",
    "- They are unordered collections of immutable objects\n",
    "- Good for deduplicating values when storing data for processing \n",
    "- Use a dictionary if you need ordered keys, still hashable but keeps position \n",
    "- Memory overhead can be high since ~1/3 the strucuture will be left empty to prevent collisions \n",
    "- Object must be hashable to add to set"
   ]
  },
  {
   "cell_type": "code",
   "execution_count": null,
   "metadata": {},
   "outputs": [],
   "source": [
    "small = {1, 5, 6, 2}\n",
    "large = set([6, 8, 9, 10, 8, 8])\n",
    "print(small)\n",
    "print(large)"
   ]
  },
  {
   "cell_type": "code",
   "execution_count": null,
   "metadata": {},
   "outputs": [],
   "source": [
    "dir(small)"
   ]
  },
  {
   "cell_type": "markdown",
   "metadata": {},
   "source": [
    "- Various compare logic..."
   ]
  },
  {
   "cell_type": "code",
   "execution_count": null,
   "metadata": {},
   "outputs": [],
   "source": [
    "all_ = small | large # union small.__or__(large)\n",
    "intersection = small & large # intersection small.__and__(large)\n",
    "difference = small - large # subtract out overlapping small.__sub__(large)\n",
    "print(all_)\n",
    "print(intersection)\n",
    "print(difference)"
   ]
  },
  {
   "cell_type": "markdown",
   "metadata": {},
   "source": [
    "##### One caution with sets is that they only retain one item of a particular hash\n",
    "- If another item has the same hash it will not be added... \n",
    "- Values False and True hash to 0 and 1 respectively \n",
    "- Notice what happens below..."
   ]
  },
  {
   "cell_type": "code",
   "execution_count": null,
   "metadata": {},
   "outputs": [],
   "source": [
    "test = set()\n",
    "test.add(True)\n",
    "test.add(0)\n",
    "test.add(\"testing\")\n",
    "test.add(\"testing\")\n",
    "test.add(1)\n",
    "test.add(1.0)\n",
    "test.add(False)\n",
    "test.add(None)\n",
    "\n",
    "test"
   ]
  },
  {
   "cell_type": "markdown",
   "metadata": {},
   "source": [
    "- This happens with dicts as well..."
   ]
  },
  {
   "cell_type": "code",
   "execution_count": null,
   "metadata": {},
   "outputs": [],
   "source": [
    "test = {}\n",
    "test[True] = 1\n",
    "test[0] = 2\n",
    "test[\"testing\"] = 3\n",
    "test[1] = 4\n",
    "test[1.0] = 5\n",
    "test[False] = 6\n",
    "test[None] = 7\n",
    "\n",
    "test"
   ]
  },
  {
   "cell_type": "markdown",
   "metadata": {},
   "source": [
    "# Mutability vs Immutability Concerns\n",
    "\n",
    "- Extreme care needs to be used around shallow and deep copies to make sure you're not unintentionally manipulating data"
   ]
  },
  {
   "cell_type": "markdown",
   "metadata": {},
   "source": [
    "### Mutable items"
   ]
  },
  {
   "cell_type": "markdown",
   "metadata": {},
   "source": [
    "- Without copying, just adding a reference\n",
    "- Pointing and manipulating same data"
   ]
  },
  {
   "cell_type": "code",
   "execution_count": null,
   "metadata": {},
   "outputs": [],
   "source": [
    "names = ['Toni', 'John', 'Robin', 'Kali']\n",
    "print(id(names), names, \"\\n\")\n",
    "\n",
    "people = names # Names and people point to the same list\n",
    "people.pop() # So removing an item from people also removes from names\n",
    "print(id(names), names) # Same ID, same data \n",
    "print(id(people), people) # Same ID, same data "
   ]
  },
  {
   "cell_type": "markdown",
   "metadata": {},
   "source": [
    "- Shallow copy\n",
    "- Only first level pointers are copied"
   ]
  },
  {
   "cell_type": "code",
   "execution_count": null,
   "metadata": {},
   "outputs": [],
   "source": [
    "names = ['Toni', 'John', 'Robin', 'Kali']\n",
    "print(id(names), names, \"\\n\")\n",
    "\n",
    "people = names[:] # Create a new list separate from names, names.copy() would also work\n",
    "people.pop() \n",
    "print(id(names), names)\n",
    "print(id(people), people)"
   ]
  },
  {
   "cell_type": "markdown",
   "metadata": {},
   "source": [
    "- Deep copy\n",
    "- Copy all levels to avoid issues"
   ]
  },
  {
   "cell_type": "code",
   "execution_count": null,
   "metadata": {},
   "outputs": [],
   "source": [
    "from copy import deepcopy"
   ]
  },
  {
   "cell_type": "code",
   "execution_count": null,
   "metadata": {},
   "outputs": [],
   "source": [
    "people = [['Toni', 'John'], ['Robin', 'Kali']]\n",
    "print(id(people), people, \"\\n\")\n",
    "\n",
    "copy = people.copy()\n",
    "copy[0][0] = \"Hello\"\n",
    "print(id(people), people)\n",
    "print(id(copy), copy)"
   ]
  },
  {
   "cell_type": "code",
   "execution_count": null,
   "metadata": {},
   "outputs": [],
   "source": [
    "people = [['Toni', 'John', 'Robin', 'Mike'], ['Steve', 'Caroline', 'Emma', 'Joe', 'Kali']]\n",
    "print(id(people), people, \"\\n\")\n",
    "\n",
    "copy = deepcopy(people)\n",
    "copy[0][0] = 1\n",
    "print(id(people), people)\n",
    "print(id(copy), copy)"
   ]
  },
  {
   "cell_type": "markdown",
   "metadata": {},
   "source": [
    "### Immutable item\n",
    "- Keeps same pointer since immutable..."
   ]
  },
  {
   "cell_type": "markdown",
   "metadata": {},
   "source": [
    "- Shallow copy"
   ]
  },
  {
   "cell_type": "code",
   "execution_count": null,
   "metadata": {},
   "outputs": [],
   "source": [
    "tuple1 = (1, 3, \"test\")\n",
    "tuple2 = tuple1[:]\n",
    "\n",
    "print(id(tuple1))\n",
    "print(id(tuple2))"
   ]
  },
  {
   "cell_type": "markdown",
   "metadata": {},
   "source": [
    "- Deep copy"
   ]
  },
  {
   "cell_type": "code",
   "execution_count": null,
   "metadata": {},
   "outputs": [],
   "source": [
    "tuple1 = (1, 3, \"test\")\n",
    "tuple2 = deepcopy(tuple1)\n",
    "\n",
    "print(id(tuple1))\n",
    "print(id(tuple2))"
   ]
  },
  {
   "cell_type": "markdown",
   "metadata": {},
   "source": [
    "### Don't use mutable, or runtime objects as default arguments for functions"
   ]
  },
  {
   "cell_type": "code",
   "execution_count": null,
   "metadata": {},
   "outputs": [],
   "source": [
    "def unexpected(value, list_=[]):\n",
    "    list_.append(value)\n",
    "    print(list_)\n",
    "    \n",
    "unexpected(11)\n",
    "unexpected('bananas', list_ =[\"test\"])\n",
    "unexpected(\"hello\")"
   ]
  },
  {
   "cell_type": "markdown",
   "metadata": {},
   "source": [
    "- time.time() has similar issues \n",
    "- timing here will be set to the value when the function is first instantiated "
   ]
  },
  {
   "cell_type": "code",
   "execution_count": null,
   "metadata": {},
   "outputs": [],
   "source": [
    "import time\n",
    "def unexpected_2(timing=time.time()): \n",
    "    print(timing)\n",
    "\n",
    "unexpected_2()\n",
    "time.sleep(5)\n",
    "unexpected_2()\n"
   ]
  },
  {
   "cell_type": "markdown",
   "metadata": {},
   "source": [
    "- Use None and is to check for empty kwargs.."
   ]
  },
  {
   "cell_type": "code",
   "execution_count": null,
   "metadata": {},
   "outputs": [],
   "source": [
    "def spam(a, b=None):\n",
    "    if b is None: # must use None here \n",
    "        b = []\n",
    "    print(a, b)\n",
    "\n",
    "#def spam(a, b=None):\n",
    "#    if not b:    # This causes silent errors due to all items that evaluate to false \n",
    "#        b = []\n",
    "#    print(a, b)\n",
    "        \n",
    "spam(\"11\", 0)"
   ]
  },
  {
   "cell_type": "markdown",
   "metadata": {},
   "source": [
    "### Modifying data in place unintentionally\n",
    "\n",
    "• Be explicit about modifying underlying input data in function calls"
   ]
  },
  {
   "cell_type": "code",
   "execution_count": null,
   "metadata": {},
   "outputs": [],
   "source": [
    "names = ['Toni', 'John', 'Robin', 'Mike', 'Steve', 'Caroline', 'Emma', 'Joe', 'Kali']\n",
    "print(names)"
   ]
  },
  {
   "cell_type": "code",
   "execution_count": null,
   "metadata": {},
   "outputs": [],
   "source": [
    "sorted_ = sorted(names) # sorted() creates a copy\n",
    "print(names)"
   ]
  },
  {
   "cell_type": "code",
   "execution_count": null,
   "metadata": {},
   "outputs": [],
   "source": [
    "sorted_ = names.sort() # Modifies the underlying list\n",
    "print(names)"
   ]
  }
 ],
 "metadata": {
  "kernelspec": {
   "display_name": "Python 3",
   "language": "python",
   "name": "python3"
  },
  "language_info": {
   "codemirror_mode": {
    "name": "ipython",
    "version": 3
   },
   "file_extension": ".py",
   "mimetype": "text/x-python",
   "name": "python",
   "nbconvert_exporter": "python",
   "pygments_lexer": "ipython3",
   "version": "3.8.3"
  }
 },
 "nbformat": 4,
 "nbformat_minor": 2
}
