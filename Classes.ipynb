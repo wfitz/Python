{
 "cells": [
  {
   "cell_type": "markdown",
   "metadata": {},
   "source": [
    "# Classes"
   ]
  },
  {
   "cell_type": "markdown",
   "metadata": {},
   "source": [
    "- Simple class example..."
   ]
  },
  {
   "cell_type": "code",
   "execution_count": null,
   "metadata": {},
   "outputs": [],
   "source": [
    "class Entity:\n",
    "    \"\"\"A simple class\"\"\"\n",
    "    \n",
    "    highest_risk_score = 0 # Class variable shared between all class instances\n",
    "    \n",
    "    def __init__(self, name, risk_score):\n",
    "        \"\"\"This gets called to create a new class\"\"\"\n",
    "        local_variable = \"hello\" # Local variable with scope limited to __init__\n",
    "        self.name = name \n",
    "        self.risk_score = risk_score\n",
    "        Entity.highest_risk_score = max(risk_score, Entity.highest_risk_score)\n",
    "        \n",
    "    def example_function(self):\n",
    "        print(f\"{self.name} has a risk score of: {self.risk_score}\")"
   ]
  },
  {
   "cell_type": "markdown",
   "metadata": {},
   "source": [
    "### A Note about self...\n",
    "- Self is used to describe variables specific to a singular class instance   \n",
    "- so the self.name is specific to the created class instance      \n",
    "- This is why sally and john can have different names stored as shown   \n",
    "- Self is not a reserve keyword, you can use whatever name you like as the first variable    \n",
    "- ... but self is used because it's general practice\n",
    "\n",
    "\n",
    "### Self is what's passed automatically when calling a function from a class instance... \n",
    "- sally.example_function() == Person.example_function(sally) \n"
   ]
  },
  {
   "cell_type": "code",
   "execution_count": null,
   "metadata": {},
   "outputs": [],
   "source": [
    "john = Entity('John', 10)\n",
    "sally = Entity('Sally', 99)"
   ]
  },
  {
   "cell_type": "markdown",
   "metadata": {},
   "source": [
    "- Class instances are stored in a dictionary format\n",
    "- vars(instance) works too"
   ]
  },
  {
   "cell_type": "code",
   "execution_count": null,
   "metadata": {},
   "outputs": [],
   "source": [
    "john.__dict__"
   ]
  },
  {
   "cell_type": "code",
   "execution_count": null,
   "metadata": {},
   "outputs": [],
   "source": [
    "Entity.__dict__"
   ]
  },
  {
   "cell_type": "code",
   "execution_count": null,
   "metadata": {},
   "outputs": [],
   "source": [
    "john.name = \"Johnny\"\n",
    "john.name"
   ]
  },
  {
   "cell_type": "code",
   "execution_count": null,
   "metadata": {},
   "outputs": [],
   "source": [
    "sally.example_function()"
   ]
  },
  {
   "cell_type": "markdown",
   "metadata": {},
   "source": [
    "- Class variable can be reached without instances"
   ]
  },
  {
   "cell_type": "code",
   "execution_count": null,
   "metadata": {},
   "outputs": [],
   "source": [
    "print(Entity.highest_risk_score)"
   ]
  },
  {
   "cell_type": "markdown",
   "metadata": {},
   "source": [
    "- Update class variable for all class instances\n"
   ]
  },
  {
   "cell_type": "code",
   "execution_count": null,
   "metadata": {},
   "outputs": [],
   "source": [
    "Entity.highest_risk_score = \"Shared Between all class instances\""
   ]
  },
  {
   "cell_type": "code",
   "execution_count": null,
   "metadata": {},
   "outputs": [],
   "source": [
    "print(sally.highest_risk_score)\n",
    "print(john.highest_risk_score)"
   ]
  },
  {
   "cell_type": "markdown",
   "metadata": {},
   "source": [
    "- Can create attributes on the fly without impacting other instances...\n",
    "- Can potentially be a very dangerous operation with typos leading to downstream issues"
   ]
  },
  {
   "cell_type": "code",
   "execution_count": null,
   "metadata": {},
   "outputs": [],
   "source": [
    "sally.names = \"Sal\"\n",
    "vars(sally)"
   ]
  },
  {
   "cell_type": "code",
   "execution_count": null,
   "metadata": {},
   "outputs": [],
   "source": [
    "vars(john)"
   ]
  },
  {
   "cell_type": "markdown",
   "metadata": {},
   "source": [
    "# Magic Methods\n",
    "- We can use special operations and names spaces to improve flow and readability\n",
    "- Unlocks a lot of power by being able to use builtin terminology instead haphazard namespaces\n",
    "- https://docs.python.org/3/reference/datamodel.html\n"
   ]
  },
  {
   "cell_type": "markdown",
   "metadata": {},
   "source": [
    "### Str, repr, format\n",
    "- \\__str__ is called when you print(an_object)\n",
    "- \\__repr__ is the interactive / representation view, but will also print if \\__str__ is not defined\n",
    "- \\__format__ output... If not declared \\__str__ will be the default returned value"
   ]
  },
  {
   "cell_type": "code",
   "execution_count": null,
   "metadata": {},
   "outputs": [],
   "source": [
    "class Entity():\n",
    "    \n",
    "    def __init__(self, name, risk_score):\n",
    "        self.name = name \n",
    "        self.risk_score = risk_score\n",
    "    \n",
    "    def __repr__(self):\n",
    "        \"\"\"Just as an example...\"\"\"\n",
    "        return f\"<Entity object: {self.name}>\"\n",
    "    \n",
    "    def __str__(self):\n",
    "        \"\"\"Return a string of all items in instance dictionary\"\"\"\n",
    "        return self.name\n",
    "\n",
    "    def __format__(self, fmt):\n",
    "        \"\"\"Logic for f strings and .format\"\"\"\n",
    "        if fmt == \"%d\":\n",
    "            return f\"{self.risk_score}\"\n",
    "        else:\n",
    "            return f\"{self.name}: {self.risk_score}\""
   ]
  },
  {
   "cell_type": "code",
   "execution_count": null,
   "metadata": {},
   "outputs": [],
   "source": [
    "sample = Entity('John', 10)\n",
    "print(sample)"
   ]
  },
  {
   "cell_type": "markdown",
   "metadata": {},
   "source": [
    "- Defining repr method will improve object displays"
   ]
  },
  {
   "cell_type": "code",
   "execution_count": null,
   "metadata": {},
   "outputs": [],
   "source": [
    "list_ = [sample, 1, \"test\"]\n",
    "list_"
   ]
  },
  {
   "cell_type": "code",
   "execution_count": null,
   "metadata": {},
   "outputs": [],
   "source": [
    "sample"
   ]
  },
  {
   "cell_type": "code",
   "execution_count": null,
   "metadata": {},
   "outputs": [],
   "source": [
    "sample = Entity('John', 10)\n",
    "print(sample)"
   ]
  },
  {
   "cell_type": "markdown",
   "metadata": {},
   "source": [
    "- Adding in some custom logic to show format..."
   ]
  },
  {
   "cell_type": "code",
   "execution_count": null,
   "metadata": {},
   "outputs": [],
   "source": [
    "print(f\"Risk Score {sample:%d}\") # Same as \"{:%d}\".format(sample)\n",
    "print(f\"Risk Score {sample}\")"
   ]
  },
  {
   "cell_type": "markdown",
   "metadata": {},
   "source": [
    "### Bools\n",
    "- if \\__bool__() is defined, use logic\n",
    "- else if \\__len__() is defined return False if len is zero\n",
    "- Otherwise returns True"
   ]
  },
  {
   "cell_type": "code",
   "execution_count": null,
   "metadata": {},
   "outputs": [],
   "source": [
    "class Entity():\n",
    "\n",
    "    threshold = 75\n",
    "    \n",
    "    def __init__(self, name, risk_score):\n",
    "        self.name = name \n",
    "        self.risk_score = risk_score\n",
    "    \n",
    "    def __bool__(self):\n",
    "        \"\"\"Return true if risky entity, false if not\"\"\"\n",
    "        if self.risk_score > self.threshold:\n",
    "            return True\n",
    "        else:\n",
    "            return False"
   ]
  },
  {
   "cell_type": "markdown",
   "metadata": {},
   "source": [
    "- Can take advantage of using builtins to make code more readable\n",
    "- Name variables and functions so you code is like reading text "
   ]
  },
  {
   "cell_type": "code",
   "execution_count": null,
   "metadata": {},
   "outputs": [],
   "source": [
    "def mitigate(entity):\n",
    "    \"\"\"Updates database to limit user activity\"\"\"\n",
    "    print(f\"Logic now running to mitigation against {entity.name}\")"
   ]
  },
  {
   "cell_type": "code",
   "execution_count": null,
   "metadata": {},
   "outputs": [],
   "source": [
    "employees = [Entity('John', risk_score=90), Entity('Sally', risk_score=10)]\n",
    "\n",
    "for potentially_risky_entity in employees:\n",
    "    if potentially_risky_entity:\n",
    "        mitigate(potentially_risky_entity)"
   ]
  },
  {
   "cell_type": "markdown",
   "metadata": {},
   "source": [
    "- Reads significantly better than something along these lines, which really isn't awful"
   ]
  },
  {
   "cell_type": "raw",
   "metadata": {},
   "source": [
    "for item in data:\n",
    "    if item.value > threshold: \n",
    "        database.update_field()"
   ]
  },
  {
   "cell_type": "markdown",
   "metadata": {},
   "source": [
    "### Len\n",
    "- Override the meaning of len(instance)\n",
    "- Keeps us from having a variety of various functions to guess about.. instance.number_of_events isn't pretty\n",
    "- While below is just an example, make len as intuitive as possible for your classes"
   ]
  },
  {
   "cell_type": "code",
   "execution_count": null,
   "metadata": {},
   "outputs": [],
   "source": [
    "class Entity():\n",
    "    \n",
    "    def __init__(self, name, risk_score, events):\n",
    "        self.name = name \n",
    "        self.risk_score = risk_score\n",
    "        self.associated_events = events\n",
    "\n",
    "    def __len__(self):\n",
    "        \"\"\"\n",
    "        What is returned when len() is called\n",
    "        In this case return the length of associated events...\n",
    "        \"\"\"\n",
    "        return len(self.associated_events)"
   ]
  },
  {
   "cell_type": "code",
   "execution_count": null,
   "metadata": {},
   "outputs": [],
   "source": [
    "sample = Entity('John', 10, [\"Network Event\", \"Physical Access\", \"Security Event\"])"
   ]
  },
  {
   "cell_type": "code",
   "execution_count": null,
   "metadata": {},
   "outputs": [],
   "source": [
    "len(sample)"
   ]
  },
  {
   "cell_type": "markdown",
   "metadata": {},
   "source": [
    "### Iteration\n",
    "- Defining \\__getitem__ or \\__iter__ allow you to make for loops over classes\n",
    "- \\__next__ can also be used with \\__iter__ returning self for the same impact, which also allows you to call next on instances\n",
    "- \\__getitem__ has a corresponding \\__missing__ method for keyed items \n"
   ]
  },
  {
   "cell_type": "code",
   "execution_count": null,
   "metadata": {},
   "outputs": [],
   "source": [
    "class Entity():\n",
    "    \n",
    "    def __init__(self, name, risk_score, events):\n",
    "        self.name = name \n",
    "        self.risk_score = risk_score\n",
    "        self.associated_events = events\n",
    "    \n",
    "    def __getitem__(self, index):\n",
    "        \"\"\"Naturally there would be more handling here such as index errors etc...\"\"\"\n",
    "        return self.associated_events[index]    \n",
    "    "
   ]
  },
  {
   "cell_type": "code",
   "execution_count": null,
   "metadata": {},
   "outputs": [],
   "source": [
    "sample = Entity('John', 11, [\"Network Event\", \"Physical Access\", \"Security Event\"])\n",
    "sample[2]"
   ]
  },
  {
   "cell_type": "code",
   "execution_count": null,
   "metadata": {},
   "outputs": [],
   "source": [
    "for item in sample:\n",
    "    print(item)"
   ]
  },
  {
   "cell_type": "code",
   "execution_count": null,
   "metadata": {},
   "outputs": [],
   "source": [
    "class Entity():\n",
    "    \n",
    "    def __init__(self, name, risk_score, events):\n",
    "        self.name = name \n",
    "        self.risk_score = risk_score\n",
    "        self.associated_events = events\n",
    "    \n",
    "    #def __getitem__(self, index):\n",
    "    #    \"\"\"Naturally there would be more handling here such as index errors etc...\"\"\"\n",
    "    #    print(\"inside getitem\")\n",
    "    #    return self.associated_events[index]   \n",
    "    \n",
    "    def __iter__(self):\n",
    "        print(\"This is from __iter__:\")\n",
    "        yield from self.associated_events\n",
    "                    "
   ]
  },
  {
   "cell_type": "code",
   "execution_count": null,
   "metadata": {},
   "outputs": [],
   "source": [
    "sample = Entity('John', 11, [\"Network Event\", \"Physical Access\", \"Security Event\"])\n",
    "\n",
    "for item in sample:\n",
    "    print(item)"
   ]
  },
  {
   "cell_type": "markdown",
   "metadata": {},
   "source": [
    "### Membership checks\n",
    "- Having getitem or iter allow for membership checks, but \\__contains__ can be used to fine tune this logic\n",
    "- Contains will also likely be fasted depending on the logic... O(N) vs a hash map\n",
    "- We can allow iter and contains to point at different data as well as seen below..."
   ]
  },
  {
   "cell_type": "code",
   "execution_count": null,
   "metadata": {},
   "outputs": [],
   "source": [
    "class Entity():\n",
    "    \n",
    "    def __init__(self, name, aliases, risk_score, events):\n",
    "        self.name = name \n",
    "        self.aliases = aliases\n",
    "        self.risk_score = risk_score\n",
    "        self.associated_events = events\n",
    "        \n",
    "    #def __contains__(self, value):\n",
    "    #    \"\"\"Overrides the 'in' check for objects\"\"\"\n",
    "    #    return bool(value in self.aliases)  \n",
    "    \n",
    "    def __iter__(self):\n",
    "        print(\"This is from __iter__:\")\n",
    "        yield from self.associated_events\n",
    "                    "
   ]
  },
  {
   "cell_type": "code",
   "execution_count": null,
   "metadata": {},
   "outputs": [],
   "source": [
    "sample_entity = Entity(name = 'John', \n",
    "                       aliases = set([\"Johnny\", \"J\"]), \n",
    "                       risk_score = 11, \n",
    "                       events = [\"Network Event\", \"Physical Access\", \"Security Event\"])"
   ]
  },
  {
   "cell_type": "code",
   "execution_count": null,
   "metadata": {},
   "outputs": [],
   "source": [
    "question = \"Network Event\"\n",
    "if question in sample_entity:\n",
    "    print(\"Do something here..\")"
   ]
  },
  {
   "cell_type": "markdown",
   "metadata": {},
   "source": [
    "### Speciality comparisons "
   ]
  },
  {
   "cell_type": "markdown",
   "metadata": {},
   "source": [
    "- =>, >, ==, !=, etc are all easily set with corresponding functions\n",
    "- We can use functools.total_ordering decorator to limit writing all of these \n",
    "- Just define \\__eq__ and \\__lt__ and you have the rest accounted for "
   ]
  },
  {
   "cell_type": "code",
   "execution_count": null,
   "metadata": {},
   "outputs": [],
   "source": [
    "from functools import total_ordering\n",
    "\n",
    "@total_ordering\n",
    "class Entity():\n",
    "    \n",
    "    def __init__(self, name, risk_score):\n",
    "        self.name = name \n",
    "        self.risk_score = risk_score\n",
    "        \n",
    "    def __lt__(self, other):\n",
    "        \"\"\"Implement < operator\"\"\"\n",
    "        return self.risk_score < other.risk_score\n",
    "\n",
    "    def __eq__(self, other):\n",
    "        \"\"\"Implement == operator\"\"\"\n",
    "        if type(other) is type(self):\n",
    "            return self.risk_score == other.risk_score\n",
    "        else:\n",
    "            return False"
   ]
  },
  {
   "cell_type": "code",
   "execution_count": null,
   "metadata": {},
   "outputs": [],
   "source": [
    "john = Entity('John', 50)\n",
    "sally = Entity('Sally', 49)\n",
    "\n",
    "if john > sally:\n",
    "    print(\"yes\")"
   ]
  },
  {
   "cell_type": "markdown",
   "metadata": {},
   "source": [
    "### Special methods for handling getting and setting attribute values\n",
    "- getattr called when an attribute does not exist \n",
    "- setattr called anytime an attribute is attempted to be set\n",
    "- getattribute called every time an attribute is requested\n",
    "- Generally you will not call getattribute, also very easy to cause infinite recursion by accident"
   ]
  },
  {
   "cell_type": "code",
   "execution_count": null,
   "metadata": {},
   "outputs": [],
   "source": [
    "class Entity():\n",
    "\n",
    "    valid_keys = (\"name\", \"risk_score\")\n",
    "    \n",
    "    def __init__(self, name, risk_score):\n",
    "        self.name = name \n",
    "        self.risk_score = risk_score\n",
    "    \n",
    "    def __getattr__(self, name):\n",
    "        print(f\"{name} is not the attribute you are looking for...\")\n",
    "        return \"I could return this however\"\n",
    "        \n",
    "    #def __getattribute__(self, name):\n",
    "    #    print(f\"__getattribute__ called for {name}....\")\n",
    "    #    return super(Entity, self).__getattribute__(name)\n",
    "        \n",
    "    def __setattr__(self, name, value):\n",
    "        print(f\"Setting value for {name}\")\n",
    "        if name not in self.valid_keys:\n",
    "            raise ValueError(f'{name} is an invalid attribute!')\n",
    "        self.__dict__[name] = value "
   ]
  },
  {
   "cell_type": "code",
   "execution_count": null,
   "metadata": {},
   "outputs": [],
   "source": [
    "john = Entity('John', 49)"
   ]
  },
  {
   "cell_type": "code",
   "execution_count": null,
   "metadata": {},
   "outputs": [],
   "source": [
    "john.names"
   ]
  },
  {
   "cell_type": "code",
   "execution_count": null,
   "metadata": {},
   "outputs": [],
   "source": [
    "vars(john)"
   ]
  },
  {
   "cell_type": "code",
   "execution_count": null,
   "metadata": {},
   "outputs": [],
   "source": [
    "john.names = 10"
   ]
  },
  {
   "cell_type": "markdown",
   "metadata": {},
   "source": [
    "### Addition and similar operations\n",
    "- All operations +, -, *, /, //, %, etc map to magic methods in python\n",
    "- Most of these numeric types also have a corresponding \"i\" version as well for in place operations\n",
    "- There are also \"r\" operations for reflections, i.e. when order is swapped \n",
    "- Expected behavior greatly varies based on various object"
   ]
  },
  {
   "cell_type": "code",
   "execution_count": null,
   "metadata": {},
   "outputs": [],
   "source": [
    "class AddExample():\n",
    "\n",
    "    def __init__(self, value):\n",
    "        self.value = value\n",
    "        \n",
    "    def __add__(self, other):\n",
    "        \"\"\"Corresponds to item1 = item1 + other\"\"\"\n",
    "        return AddExample(self.value + other)\n",
    "    \n",
    "    def __iadd__(self, other):\n",
    "        \"\"\"Corresponds to item1 += other\"\"\"\n",
    "        self.value = self.value + other\n",
    "        return self\n",
    "    \n",
    "    #def __radd__(self, other):\n",
    "    #    \"\"\"Corresponds to item1 = other + item1\"\"\"\n",
    "    #    return AddExample(self.value + other)\n",
    "    \n",
    "    def __repr__(self):\n",
    "        \"\"\"Just as an example...\"\"\"\n",
    "        return str(self.value)"
   ]
  },
  {
   "cell_type": "markdown",
   "metadata": {},
   "source": [
    "- Add returns a new instance"
   ]
  },
  {
   "cell_type": "code",
   "execution_count": null,
   "metadata": {},
   "outputs": [],
   "source": [
    "sample = AddExample(10)\n",
    "print(id(sample))\n",
    "\n",
    "sample = sample + 12\n",
    "print(id(sample))\n",
    "\n",
    "print(sample.value)"
   ]
  },
  {
   "cell_type": "markdown",
   "metadata": {},
   "source": [
    "- Call iadd with +=, for mutable items this will update in place \n",
    "- If \\__iadd__ is not defined \\__add__ will fire"
   ]
  },
  {
   "cell_type": "code",
   "execution_count": null,
   "metadata": {},
   "outputs": [],
   "source": [
    "sample = AddExample(10)\n",
    "print(id(sample))\n",
    "\n",
    "sample += 12\n",
    "print(id(sample))\n",
    "\n",
    "print(sample.value)"
   ]
  },
  {
   "cell_type": "markdown",
   "metadata": {},
   "source": [
    "- \"reflection\" add errors without radd defined"
   ]
  },
  {
   "cell_type": "code",
   "execution_count": null,
   "metadata": {},
   "outputs": [],
   "source": [
    "sample = AddExample(10)\n",
    "new = 12 + sample\n",
    "new"
   ]
  },
  {
   "cell_type": "markdown",
   "metadata": {},
   "source": [
    "##### Continuing our example..."
   ]
  },
  {
   "cell_type": "code",
   "execution_count": null,
   "metadata": {},
   "outputs": [],
   "source": [
    "import numpy as np\n",
    "\n",
    "class Entity():\n",
    "    \n",
    "    def __init__(self, name, risk_score):\n",
    "        self.name = name \n",
    "        self.risk_score = risk_score\n",
    "        \n",
    "    def __iadd__(self, other):\n",
    "        self.risk_score = np.clip(self.risk_score + other, 0, 99)\n",
    "        return self\n"
   ]
  },
  {
   "cell_type": "code",
   "execution_count": null,
   "metadata": {},
   "outputs": [],
   "source": [
    "sample = Entity('John', 10)\n",
    "sample += 90\n",
    "print(sample.risk_score)"
   ]
  },
  {
   "cell_type": "markdown",
   "metadata": {},
   "source": [
    "### Hash\n",
    "- Enable custom objects to join sets or be keys to dictionaries\n",
    "- Extreme care needs to be exercised here depending on how your code is setup and what is being used for the hash... I.e. potentially easy for values to change and the hash no longer being valid / able to access stored data\n",
    "- Suggested to implement \\__eq__() method as well if using \\__hash__()\n",
    "- Likely you won't want to do this in your own objects..."
   ]
  },
  {
   "cell_type": "code",
   "execution_count": null,
   "metadata": {},
   "outputs": [],
   "source": [
    "class Entity():\n",
    "    \n",
    "    def __init__(self, name, risk_score):\n",
    "        self.name = name \n",
    "        self.risk_score = risk_score\n",
    "    \n",
    "    def __repr__(self):\n",
    "        return self.name\n",
    "        \n",
    "    def __hash__(self):\n",
    "        \"\"\"Return value for hash checks\"\"\"\n",
    "        return hash(self.name)\n",
    "    \n",
    "    def __eq__(self, other):\n",
    "        if type(other) is type(self):\n",
    "            return self.risk_score == other.risk_score\n",
    "        else:\n",
    "            return False"
   ]
  },
  {
   "cell_type": "code",
   "execution_count": null,
   "metadata": {},
   "outputs": [],
   "source": [
    "john = Entity(\"Name\", 49)\n",
    "sally = Entity(\"Name\", 9)"
   ]
  },
  {
   "cell_type": "code",
   "execution_count": null,
   "metadata": {},
   "outputs": [],
   "source": [
    "dictionary = {}\n",
    "dictionary[john] = \"under review\"\n",
    "dictionary[sally] = \"new\"\n",
    "dictionary"
   ]
  },
  {
   "cell_type": "code",
   "execution_count": null,
   "metadata": {},
   "outputs": [],
   "source": [
    "dictionary[sally]"
   ]
  },
  {
   "cell_type": "markdown",
   "metadata": {},
   "source": [
    "- Change the item being hashed and chaos ensues..."
   ]
  },
  {
   "cell_type": "code",
   "execution_count": null,
   "metadata": {},
   "outputs": [],
   "source": [
    "sally.name = \"Sally\""
   ]
  },
  {
   "cell_type": "code",
   "execution_count": null,
   "metadata": {},
   "outputs": [],
   "source": [
    "dictionary[sally]"
   ]
  },
  {
   "cell_type": "markdown",
   "metadata": {},
   "source": [
    "### Slots\n",
    "- Add slots for memory performance... treats class like tuple instead of dictionary.. \n",
    "- Extra benefit that new instance attributes can not be added\n",
    "- If you have millions of instances in memory this can be a very efficient option\n",
    "- Although 3.6+ has lots of dictionary improvements for classes\n",
    "- Doesn't play totally nice with multiple inheritance "
   ]
  },
  {
   "cell_type": "code",
   "execution_count": null,
   "metadata": {},
   "outputs": [],
   "source": [
    "class Entity():\n",
    "    \n",
    "    __slots__ = (\"name\", \"risk_score\")\n",
    "                  \n",
    "    def __init__(self, name, risk_score):\n",
    "        self.name = name \n",
    "        self.risk_score = risk_score\n",
    "        \n",
    "    def __repr__(self):\n",
    "        return self.name\n"
   ]
  },
  {
   "cell_type": "code",
   "execution_count": null,
   "metadata": {},
   "outputs": [],
   "source": [
    "sally = Entity('Sally', 9)"
   ]
  },
  {
   "cell_type": "markdown",
   "metadata": {},
   "source": [
    "- Can't set new names since the underlying data structure is a tuple"
   ]
  },
  {
   "cell_type": "code",
   "execution_count": null,
   "metadata": {},
   "outputs": [],
   "source": [
    "sally.names = \"Sal\""
   ]
  },
  {
   "cell_type": "markdown",
   "metadata": {},
   "source": [
    "### Lots of other available magic methods...!\n",
    "- Again, read the docs! \n",
    "https://docs.python.org/3/reference/datamodel.html\n",
    "- Check out https://docs.python.org/3/library/collections.abc.html#collections-abstract-base-classes"
   ]
  },
  {
   "cell_type": "markdown",
   "metadata": {},
   "source": [
    "# Using Named Tuple for class parent\n",
    "- Automatically implements several magic methods for us... "
   ]
  },
  {
   "cell_type": "code",
   "execution_count": null,
   "metadata": {},
   "outputs": [],
   "source": [
    "import typing\n",
    "class Entity(typing.NamedTuple):\n",
    "    name: str\n",
    "    risk_score: int"
   ]
  },
  {
   "cell_type": "code",
   "execution_count": null,
   "metadata": {},
   "outputs": [],
   "source": [
    "john = Entity(\"John\", 9)\n",
    "johnny = Entity(\"John\", 9)"
   ]
  },
  {
   "cell_type": "code",
   "execution_count": null,
   "metadata": {},
   "outputs": [],
   "source": [
    "if john == johnny:\n",
    "    print(\"Built in check against attributes\")"
   ]
  },
  {
   "cell_type": "code",
   "execution_count": null,
   "metadata": {},
   "outputs": [],
   "source": [
    "john"
   ]
  },
  {
   "cell_type": "markdown",
   "metadata": {},
   "source": [
    "# Classmethod\n",
    "\n",
    "- Way to create a class off of arguments other than what's in the init"
   ]
  },
  {
   "cell_type": "code",
   "execution_count": null,
   "metadata": {},
   "outputs": [],
   "source": [
    "class Entity():\n",
    "    \n",
    "    def __init__(self, name, risk_score=0):\n",
    "        self.name = name \n",
    "        self.risk_score = risk_score\n",
    "\n",
    "    @classmethod\n",
    "    def from_directory(cls, value):\n",
    "        \"\"\"Alternate constructor for Entity class\"\"\"\n",
    "        print(cls.__name__)\n",
    "        location, title, name = value.split(\"/\")\n",
    "        entity = cls(name)\n",
    "        entity.location = location\n",
    "        return entity"
   ]
  },
  {
   "cell_type": "code",
   "execution_count": null,
   "metadata": {},
   "outputs": [],
   "source": [
    "john = Entity('John', 9)\n",
    "vars(john)"
   ]
  },
  {
   "cell_type": "code",
   "execution_count": null,
   "metadata": {},
   "outputs": [],
   "source": [
    "sally = Entity.from_directory(\"AZ/HR Manager/Sally\")\n",
    "vars(sally)"
   ]
  },
  {
   "cell_type": "markdown",
   "metadata": {},
   "source": [
    "# Property decorator \n",
    "- Property decorators are a great tool for lazy evaluation, adding extra logic, and removing fields from instance dictionary \n",
    "- Added benefit that you can override names in place so no code changes are required elsewhere\n",
    "- () is no longer needed on property variables as well, which can have its benefits\n",
    "- Get, set, and delete can all be defined for a namespace"
   ]
  },
  {
   "cell_type": "code",
   "execution_count": null,
   "metadata": {},
   "outputs": [],
   "source": [
    "import random\n",
    "def fake_datebase(entity, query):\n",
    "    return f\"{random.randint(0,100)} Hours Ago\"\n",
    "\n",
    "class Entity():\n",
    "    \n",
    "    def __init__(self, name, risk_score):\n",
    "        self.name = name \n",
    "        self.risk_score = risk_score\n",
    "        \n",
    "    def __repr__(self):\n",
    "        return f\"<Entity Object: {self.name}>\"\n",
    "    \n",
    "    @property\n",
    "    def latest_event(self):\n",
    "        \"\"\"Lazy database query example with only get set\"\"\"\n",
    "        return fake_datebase(self.name, query=\"latest event\")"
   ]
  },
  {
   "cell_type": "code",
   "execution_count": null,
   "metadata": {},
   "outputs": [],
   "source": [
    "john = Entity('John', 0)"
   ]
  },
  {
   "cell_type": "code",
   "execution_count": null,
   "metadata": {},
   "outputs": [],
   "source": [
    "vars(john)"
   ]
  },
  {
   "cell_type": "code",
   "execution_count": null,
   "metadata": {},
   "outputs": [],
   "source": [
    "john.latest_event"
   ]
  },
  {
   "cell_type": "code",
   "execution_count": null,
   "metadata": {
    "scrolled": true
   },
   "outputs": [],
   "source": [
    "vars(Entity)"
   ]
  },
  {
   "cell_type": "code",
   "execution_count": null,
   "metadata": {},
   "outputs": [],
   "source": [
    "john.latest_event = \"0 Hours Ago\""
   ]
  },
  {
   "cell_type": "markdown",
   "metadata": {},
   "source": [
    "### Using property variables to check input\n",
    "- Can even be implemented after the fact using the same namespace    \n",
    "- Say for instance we want to check values on a predefined attribute..."
   ]
  },
  {
   "cell_type": "code",
   "execution_count": null,
   "metadata": {},
   "outputs": [],
   "source": [
    "class Entity():\n",
    "    \n",
    "    def __init__(self, name, risk_score):\n",
    "        self.name = name \n",
    "        self.risk_score = risk_score\n",
    "        \n",
    "    def __repr__(self):\n",
    "        return f\"<Entity Object: {self.name}>\"\n",
    "        \n",
    "    @property\n",
    "    def risk_score(self):\n",
    "        \"\"\"Add property decorator to enable property setters below\"\"\"\n",
    "        print(\"We can add logic here too if desired...\")\n",
    "        return self._risk_score # _whatever is an arbitrary variable name, just keep this and below the same \n",
    "    \n",
    "    @risk_score.setter\n",
    "    def risk_score(self, value):\n",
    "        \"\"\"\"Checks input values off below logic every time variable is set\"\"\"\n",
    "        print(\"Inside the set\")\n",
    "        if isinstance(value, int) and 0 <= value <= 99:\n",
    "            self._risk_score = value \n",
    "        else:\n",
    "            raise ValueError(\"Expecting integer between 0 and 99 inclusive\")\n",
    "                 "
   ]
  },
  {
   "cell_type": "code",
   "execution_count": null,
   "metadata": {},
   "outputs": [],
   "source": [
    "john = Entity('John', 0)\n",
    "vars(john)"
   ]
  },
  {
   "cell_type": "code",
   "execution_count": null,
   "metadata": {},
   "outputs": [],
   "source": [
    "vars(Entity)"
   ]
  },
  {
   "cell_type": "code",
   "execution_count": null,
   "metadata": {},
   "outputs": [],
   "source": [
    "john.risk_score"
   ]
  },
  {
   "cell_type": "code",
   "execution_count": null,
   "metadata": {
    "scrolled": true
   },
   "outputs": [],
   "source": [
    "john.risk_score = 10"
   ]
  },
  {
   "cell_type": "code",
   "execution_count": null,
   "metadata": {},
   "outputs": [],
   "source": [
    "vars(john)"
   ]
  },
  {
   "cell_type": "markdown",
   "metadata": {},
   "source": [
    "- Still can override the \"hidden\" value if you know the name"
   ]
  },
  {
   "cell_type": "code",
   "execution_count": null,
   "metadata": {
    "scrolled": true
   },
   "outputs": [],
   "source": [
    "john._risk_score = \"21\" # john.__dict__[\"_risk_score\"] = \"21\"\n",
    "vars(john)"
   ]
  },
  {
   "cell_type": "code",
   "execution_count": null,
   "metadata": {
    "scrolled": true
   },
   "outputs": [],
   "source": [
    "john.risk_score"
   ]
  },
  {
   "cell_type": "markdown",
   "metadata": {},
   "source": [
    "# Descriptors\n",
    "- Descriptors provide the underlying magic for most of Python’s class features, including @classmethod, @staticmethod, @property, and even the \\__slots__ specification    \n",
    "- Descriptors allow for extra logic similar to property setters with less (and reusable) code    \n",
    "- Using class variables of another class type we create a means to proxy alter the underlying dictionary of instances of the original class "
   ]
  },
  {
   "cell_type": "code",
   "execution_count": null,
   "metadata": {},
   "outputs": [],
   "source": [
    "import math\n",
    "\n",
    "class verify_int(object):\n",
    "\n",
    "    def __init__(self, name, mins=-math.inf, maxs=math.inf):\n",
    "        self.name = name\n",
    "        self.mins = mins\n",
    "        self.maxs = maxs\n",
    "        \n",
    "    def __repr__(self):\n",
    "        return f\"<Verify Int Object: {self.name}>\"\n",
    "\n",
    "    def __get__(self, instance, cls):\n",
    "        \"\"\"Called everytime we call for the value of an instance\"\"\"\n",
    "        if instance is None:\n",
    "            print(f\"inside verify_int __get__ called from {cls.__name__}\")\n",
    "            return self\n",
    "        else:\n",
    "            print(f\"inside verify_int __get__ called from {instance}\")\n",
    "            return instance.__dict__[self.name]\n",
    "\n",
    "    #def __set__(self, instance, value):\n",
    "    #    \"\"\"Called everytime instance is assigned a value\"\"\"\n",
    "    #    print(f\"inside __set__ called from {instance}, {value}\")\n",
    "    #    if isinstance(value, int) and self.mins <= value <= self.maxs:\n",
    "    #        instance.__dict__[self.name] = value\n",
    "    #    else:\n",
    "    #        raise ValueError(f\"Expecting Integer between {self.mins} & {self.maxs}\")"
   ]
  },
  {
   "cell_type": "markdown",
   "metadata": {},
   "source": [
    "- Comment out the \\__set__ method above and note the difference in how risk_score is now an attribute vs the class instance of verify_int getting called "
   ]
  },
  {
   "cell_type": "code",
   "execution_count": null,
   "metadata": {},
   "outputs": [],
   "source": [
    "class Entity():\n",
    "    \n",
    "    risk_score = verify_int(\"example\", 0, 99)\n",
    "    \n",
    "    def __init__(self, name, risk_score_in):\n",
    "        self.name = name \n",
    "        self.risk_score = risk_score_in\n",
    "        \n",
    "    def __repr__(self):\n",
    "        return f\"<Entity Object: {self.name}>\"\n",
    "        "
   ]
  },
  {
   "cell_type": "code",
   "execution_count": null,
   "metadata": {},
   "outputs": [],
   "source": [
    "john = Entity('John', 11)"
   ]
  },
  {
   "cell_type": "code",
   "execution_count": null,
   "metadata": {},
   "outputs": [],
   "source": [
    "john.__dict__"
   ]
  },
  {
   "cell_type": "code",
   "execution_count": null,
   "metadata": {},
   "outputs": [],
   "source": [
    "vars(john)"
   ]
  },
  {
   "cell_type": "code",
   "execution_count": null,
   "metadata": {},
   "outputs": [],
   "source": [
    "Entity.risk_score"
   ]
  },
  {
   "cell_type": "code",
   "execution_count": null,
   "metadata": {},
   "outputs": [],
   "source": [
    "vars(Entity)"
   ]
  },
  {
   "cell_type": "markdown",
   "metadata": {},
   "source": [
    "- Calling \"gets\" on instance and class descriptor"
   ]
  },
  {
   "cell_type": "code",
   "execution_count": null,
   "metadata": {},
   "outputs": [],
   "source": [
    "Entity.risk_score"
   ]
  },
  {
   "cell_type": "code",
   "execution_count": null,
   "metadata": {},
   "outputs": [],
   "source": [
    "john.risk_score"
   ]
  },
  {
   "cell_type": "markdown",
   "metadata": {},
   "source": [
    "- Calling \"set\" on instance"
   ]
  },
  {
   "cell_type": "code",
   "execution_count": null,
   "metadata": {},
   "outputs": [],
   "source": [
    "john.risk_score = 110"
   ]
  },
  {
   "cell_type": "markdown",
   "metadata": {},
   "source": [
    "- Again we can still get around checks here after uncommenting above descriptor logic... \n",
    "- This is done by using the same mechanism to modify the instance dictionary"
   ]
  },
  {
   "cell_type": "code",
   "execution_count": null,
   "metadata": {},
   "outputs": [],
   "source": [
    "john.__dict__[\"example\"] = \"12\"\n",
    "vars(john)"
   ]
  },
  {
   "cell_type": "code",
   "execution_count": null,
   "metadata": {},
   "outputs": [],
   "source": [
    "john.risk_score"
   ]
  },
  {
   "cell_type": "markdown",
   "metadata": {},
   "source": [
    "- We can also use some builtins to get, set, and check attributes "
   ]
  },
  {
   "cell_type": "code",
   "execution_count": null,
   "metadata": {},
   "outputs": [],
   "source": [
    "Entity.__dict__"
   ]
  },
  {
   "cell_type": "code",
   "execution_count": null,
   "metadata": {},
   "outputs": [],
   "source": [
    "# Same as hasattr(verify_int, \"__set__\")\n",
    "hasattr(Entity.__dict__[\"risk_score\"].__class__, \"__set__\")"
   ]
  },
  {
   "cell_type": "code",
   "execution_count": null,
   "metadata": {},
   "outputs": [],
   "source": [
    "Entity.__dict__[\"risk_score\"].__class__.__set__"
   ]
  },
  {
   "cell_type": "code",
   "execution_count": null,
   "metadata": {},
   "outputs": [],
   "source": [
    "getattr(john, \"risk_score\")"
   ]
  },
  {
   "cell_type": "code",
   "execution_count": null,
   "metadata": {},
   "outputs": [],
   "source": [
    "setattr(john, \"risk_score\", 42)\n",
    "setattr(john, \"name\", \"Johnny\")"
   ]
  },
  {
   "cell_type": "code",
   "execution_count": null,
   "metadata": {},
   "outputs": [],
   "source": [
    "vars(john)"
   ]
  },
  {
   "cell_type": "markdown",
   "metadata": {},
   "source": [
    "# Property setters under the covers... quick glance\n",
    "- Property setters are descriptors with some syntactical sugar...\n",
    "- Basically we use the decorators to pass functions into \\__set__ and \\__get__ for us"
   ]
  },
  {
   "cell_type": "code",
   "execution_count": null,
   "metadata": {},
   "outputs": [],
   "source": [
    "import random\n",
    "def fake_datebase(entity, query):\n",
    "    return f\"{random.randint(0,100)} Hours Ago\"\n",
    "\n",
    "class Entity():\n",
    "    \n",
    "    def __init__(self, name, risk_score):\n",
    "        self.name = name \n",
    "        self.risk_score = risk_score\n",
    "        \n",
    "    def __repr__(self):\n",
    "        return f\"<Entity Object: {self.name}>\"\n",
    "    \n",
    "    @property\n",
    "    def latest_event(self):\n",
    "        \"\"\"Lazy query database example with only get set\"\"\"\n",
    "        return fake_datebase(self.name, query=\"latest event\")\n",
    "    \n",
    "    @property\n",
    "    def risk_score(self):\n",
    "        \"\"\"Add property decorator to enable property setters below\"\"\"\n",
    "        print(\"We can add logic here too if desired...\")\n",
    "        return self._whatever # _whatever is an arbitrary variable name, just keep this and below the same \n",
    "    \n",
    "    @risk_score.setter\n",
    "    def risk_score(self, value):\n",
    "        \"\"\"\"Checks input values off below logic every time variable 'mode' is set\"\"\"\n",
    "        if isinstance(value, int) and 0 <= value <= 99:\n",
    "            self._whatever = value \n",
    "        else:\n",
    "            raise ValueError(\"Expecting integer between 0 and 99 inclusive\")\n",
    "                 "
   ]
  },
  {
   "cell_type": "code",
   "execution_count": null,
   "metadata": {},
   "outputs": [],
   "source": [
    "john = Entity('John', 12)\n",
    "vars(john)"
   ]
  },
  {
   "cell_type": "code",
   "execution_count": null,
   "metadata": {},
   "outputs": [],
   "source": [
    "vars(Entity) # same as project1.__class__.__dict__"
   ]
  },
  {
   "cell_type": "markdown",
   "metadata": {},
   "source": [
    "- We can check to see if set get or delete are defined in descriptor format\n",
    "- The real check for property decorators though here is if fset is defined...\n",
    "- There are fset, fget, and dset (delete) as possible options"
   ]
  },
  {
   "cell_type": "code",
   "execution_count": null,
   "metadata": {},
   "outputs": [],
   "source": [
    "hasattr(Entity.__dict__['latest_event'], '__set__')"
   ]
  },
  {
   "cell_type": "code",
   "execution_count": null,
   "metadata": {},
   "outputs": [],
   "source": [
    "# fset is used to handle actual updating of private variable in question \n",
    "bool(Entity.latest_event.fset)"
   ]
  },
  {
   "cell_type": "code",
   "execution_count": null,
   "metadata": {},
   "outputs": [],
   "source": [
    "Entity.latest_event.__set__"
   ]
  },
  {
   "cell_type": "markdown",
   "metadata": {},
   "source": [
    "- latest_event only has get defined, risk_score has both get and set..."
   ]
  },
  {
   "cell_type": "code",
   "execution_count": null,
   "metadata": {},
   "outputs": [],
   "source": [
    "hasattr(Entity.__dict__['risk_score'], '__set__')"
   ]
  },
  {
   "cell_type": "code",
   "execution_count": null,
   "metadata": {},
   "outputs": [],
   "source": [
    "bool(Entity.risk_score.fset)"
   ]
  },
  {
   "cell_type": "code",
   "execution_count": null,
   "metadata": {},
   "outputs": [],
   "source": [
    "Entity.risk_score.fset"
   ]
  },
  {
   "cell_type": "code",
   "execution_count": null,
   "metadata": {},
   "outputs": [],
   "source": []
  }
 ],
 "metadata": {
  "kernelspec": {
   "display_name": "Python 3",
   "language": "python",
   "name": "python3"
  },
  "language_info": {
   "codemirror_mode": {
    "name": "ipython",
    "version": 3
   },
   "file_extension": ".py",
   "mimetype": "text/x-python",
   "name": "python",
   "nbconvert_exporter": "python",
   "pygments_lexer": "ipython3",
   "version": "3.8.3"
  }
 },
 "nbformat": 4,
 "nbformat_minor": 2
}
