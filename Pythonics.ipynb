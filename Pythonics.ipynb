{
 "cells": [
  {
   "cell_type": "markdown",
   "metadata": {},
   "source": [
    "# A few Basics... "
   ]
  },
  {
   "cell_type": "code",
   "execution_count": null,
   "metadata": {},
   "outputs": [],
   "source": [
    "\\ # Continue on next line, format as you like, avoid trailing spaces, not needed for [], {}, ()...\n",
    "\n",
    "_variable # Single leading underscore means private, not enforced by interpreter\n",
    "\n",
    "__variable # Double leading underscore creates mangling when used in classes, best to avoid\n",
    "\n",
    "list_ # Used to avoid naming conflicts, ex. list_ is not list, no special interpreter enforcement \n",
    "\n",
    "__variable__ # Special methods used by python such as __init__ etc... Avoid creating arbitrary, custom attributes with the __foo__ syntax because such names may acquire special meanings in the future\n",
    "\n",
    "_ # Single underscores usually used for throw away values"
   ]
  },
  {
   "cell_type": "markdown",
   "metadata": {},
   "source": [
    "#### More naming conventions: "
   ]
  },
  {
   "cell_type": "raw",
   "metadata": {},
   "source": [
    "module_name\n",
    "package_name\n",
    "ClassName\n",
    "method_name\n",
    "ExceptionName\n",
    "function_name\n",
    "GLOBAL_CONSTANT_NAME\n",
    "global_var_name\n",
    "instance_var_name\n",
    "function_parameter_name\n",
    "local_var_name"
   ]
  },
  {
   "cell_type": "markdown",
   "metadata": {},
   "source": [
    "# Slicing\n",
    "- [start, end not inclusive, step]"
   ]
  },
  {
   "cell_type": "code",
   "execution_count": null,
   "metadata": {},
   "outputs": [],
   "source": [
    "string = \"slicing fun\""
   ]
  },
  {
   "cell_type": "code",
   "execution_count": null,
   "metadata": {},
   "outputs": [],
   "source": [
    "string[0:2]"
   ]
  },
  {
   "cell_type": "code",
   "execution_count": null,
   "metadata": {},
   "outputs": [],
   "source": [
    "string[::3]"
   ]
  },
  {
   "cell_type": "code",
   "execution_count": null,
   "metadata": {},
   "outputs": [],
   "source": [
    "string[-3::-1]"
   ]
  },
  {
   "cell_type": "code",
   "execution_count": null,
   "metadata": {},
   "outputs": [],
   "source": [
    "raw = 'Number ####423 Person ###Dave'\n",
    "raw[7:14]"
   ]
  },
  {
   "cell_type": "markdown",
   "metadata": {},
   "source": [
    "- slice instances can help with readability"
   ]
  },
  {
   "cell_type": "code",
   "execution_count": null,
   "metadata": {},
   "outputs": [],
   "source": [
    "record = 'Number ####423 Person ###Dave'\n",
    "\n",
    "number = slice(7,14)\n",
    "person = slice(22,29)\n",
    "\n",
    "num = record[number].replace(\"#\", \"\")\n",
    "name = record[person].replace(\"#\", \"\")\n",
    "\n",
    "print(num)\n",
    "print(name)"
   ]
  },
  {
   "cell_type": "markdown",
   "metadata": {},
   "source": [
    "- Single out of index errors get raised, list slicing out of index fails silently"
   ]
  },
  {
   "cell_type": "code",
   "execution_count": null,
   "metadata": {},
   "outputs": [],
   "source": [
    "nums = [0, 1, 2, 3, 4]\n",
    "print(nums[5])"
   ]
  },
  {
   "cell_type": "code",
   "execution_count": null,
   "metadata": {},
   "outputs": [],
   "source": [
    "nums = [0, 1, 2, 3, 4]\n",
    "print(nums[5:6])"
   ]
  },
  {
   "cell_type": "markdown",
   "metadata": {},
   "source": [
    "# Atomic Updates\n",
    "- Convient way of atomic updates without temps\n",
    "- Old way..."
   ]
  },
  {
   "cell_type": "code",
   "execution_count": null,
   "metadata": {},
   "outputs": [],
   "source": [
    "a = 1\n",
    "b = 2\n",
    "\n",
    "temp = a\n",
    "a = b + a \n",
    "b = temp\n",
    "\n",
    "print(a)\n",
    "print(b)"
   ]
  },
  {
   "cell_type": "markdown",
   "metadata": {},
   "source": [
    "- Python..."
   ]
  },
  {
   "cell_type": "code",
   "execution_count": null,
   "metadata": {},
   "outputs": [],
   "source": [
    "a = 1\n",
    "b = 2\n",
    "\n",
    "a, b = b + a, a \n",
    "print(a)\n",
    "print(b)"
   ]
  },
  {
   "cell_type": "markdown",
   "metadata": {},
   "source": [
    "# \"==\" is used for value comparison, \"is\" is used for identity comparison \n",
    "\n",
    "• Some versions of python keep a cache of small integers for reference which can create some unexpected results..."
   ]
  },
  {
   "cell_type": "code",
   "execution_count": null,
   "metadata": {},
   "outputs": [],
   "source": [
    "value = 256\n",
    "compare = 256\n",
    "print(\"Are they the same value? = {}\".format(bool(value == compare)))\n",
    "print(\"Are they the same id? = {}\".format(bool(value is compare)))"
   ]
  },
  {
   "cell_type": "code",
   "execution_count": null,
   "metadata": {},
   "outputs": [],
   "source": [
    "value = 423\n",
    "compare = 423\n",
    "print(\"Are they the same value? = {}\".format(bool(value == compare)))\n",
    "print(\"Are they the same id? = {}\".format(bool(value is compare)))"
   ]
  },
  {
   "cell_type": "markdown",
   "metadata": {},
   "source": [
    "- None and False are not the same, use them to your advantage\n",
    "- The default function return in python is None\n",
    "- Usually None means there is no information\n",
    "- False means there's information and it's false"
   ]
  },
  {
   "cell_type": "code",
   "execution_count": null,
   "metadata": {},
   "outputs": [],
   "source": [
    "print(bool(False is None))"
   ]
  },
  {
   "cell_type": "markdown",
   "metadata": {},
   "source": [
    "# Special if statement handling \n"
   ]
  },
  {
   "cell_type": "markdown",
   "metadata": {},
   "source": [
    "- Special math formatting is valid, can avoid double calculation"
   ]
  },
  {
   "cell_type": "code",
   "execution_count": null,
   "metadata": {},
   "outputs": [],
   "source": [
    "x = 1\n",
    "y = 0\n",
    "\n",
    "if 1 <= x + y <= 10:  # vs (1 <= x + y) and (x + y <= 10) \n",
    "    print(\"Spiffy\")"
   ]
  },
  {
   "cell_type": "markdown",
   "metadata": {},
   "source": [
    "- Be aware that compound logic statements short circuit in python\n",
    "- Even though heavy_operation is not defined this still fires due to short circuit logic\n",
    "- Something to be aware of when testing code..."
   ]
  },
  {
   "cell_type": "code",
   "execution_count": null,
   "metadata": {},
   "outputs": [],
   "source": [
    "if False and heavy_operation():  \n",
    "    print(\"Test\")"
   ]
  },
  {
   "cell_type": "markdown",
   "metadata": {},
   "source": [
    "# Items that are considered \"Falsy\"\n",
    "- None and False\n",
    "- Zero of any type: 0, 0.0, 0j, Decimal(0). Fraction(0, 1)\n",
    "- Empty sequences and collections: (), [], set(), range(0), len(0), \"\"... (but not \"    \")\n",
    "- Most other things are \"Truthy\"\n",
    "- True and False can be used in math for 1 and 0 respectively"
   ]
  },
  {
   "cell_type": "code",
   "execution_count": null,
   "metadata": {},
   "outputs": [],
   "source": [
    "print(\"bool(42) = {}\".format(bool(42)))\n",
    "print(\"False + 42 = {}\".format(False + 42))\n",
    "print(\"True + 2 = {}\".format(True + 2))"
   ]
  },
  {
   "cell_type": "markdown",
   "metadata": {},
   "source": [
    "##### In some versions of python datetime.time(0,0,0) midnight evaluates to False... Be very aware of this condition if bool checking dates in older or across python versions\n",
    "\n",
    "- Better yet, use mils and convert on output if worried about working across multiple installs\n",
    "- We'll deep dive on python 2 vs 3 later"
   ]
  },
  {
   "cell_type": "code",
   "execution_count": null,
   "metadata": {},
   "outputs": [],
   "source": [
    "import sys\n",
    "import datetime\n",
    "print('bool(datetime.time(0,0,0)) == {} in python {}'\\\n",
    "      .format(bool(datetime.time(0,0,0)), sys.version_info[0]))"
   ]
  },
  {
   "cell_type": "code",
   "execution_count": null,
   "metadata": {},
   "outputs": [],
   "source": [
    "%%python2\n",
    "import sys\n",
    "import datetime\n",
    "print('bool(datetime.time(0,0,0)) == {} in python {}'\\\n",
    "      .format(bool(datetime.time(0,0,0)), sys.version_info[0]))"
   ]
  },
  {
   "cell_type": "markdown",
   "metadata": {},
   "source": [
    "# Break, Continue, Pass logic \n",
    "\n",
    "- Break : leave current loop, do not continue iterating    \n",
    "- Continue : leave current loop, continue iterating    \n",
    "- Pass : Do nothing, commonly used as a place holder for empty functions\n"
   ]
  },
  {
   "cell_type": "code",
   "execution_count": null,
   "metadata": {},
   "outputs": [],
   "source": [
    "names = ['Toni', 'John', 'Robin', 'Mike', 'Steve', 'Caroline', 'Emma', 'Joe', 'Kali']\n",
    "names"
   ]
  },
  {
   "cell_type": "code",
   "execution_count": null,
   "metadata": {},
   "outputs": [],
   "source": [
    "for name in names:\n",
    "    if name == 'Robin':\n",
    "        break\n",
    "    print(name, end = ' ')"
   ]
  },
  {
   "cell_type": "code",
   "execution_count": null,
   "metadata": {},
   "outputs": [],
   "source": [
    "for name in names:\n",
    "    if name == 'Robin':\n",
    "        continue\n",
    "    print(name, end = ' ')"
   ]
  },
  {
   "cell_type": "code",
   "execution_count": null,
   "metadata": {},
   "outputs": [],
   "source": [
    "for name in names:\n",
    "    if name == 'Robin':\n",
    "        pass\n",
    "    print(name, end = ' ')"
   ]
  },
  {
   "cell_type": "markdown",
   "metadata": {},
   "source": [
    "# Special else cases\n",
    "\n",
    "• Else has a couple extra uses most don't know about...   \n",
    "• For, else loops- If for loop finishes without breaking run else case    \n",
    "• Try, except, else loops- If try succeeds run else case"
   ]
  },
  {
   "cell_type": "code",
   "execution_count": null,
   "metadata": {},
   "outputs": [],
   "source": [
    "def first(name, directory):\n",
    "    for entry in directory:\n",
    "        if name in entry:\n",
    "            print(\"Found\", name)\n",
    "            break\n",
    "    else:\n",
    "        print(\"Did not find\", name)"
   ]
  },
  {
   "cell_type": "code",
   "execution_count": null,
   "metadata": {},
   "outputs": [],
   "source": [
    "people = (\"Ziggy Stardusk\", \"Davy Jones\")\n",
    "first(\"David\", people)\n",
    "first(\"Ziggy\", people)"
   ]
  },
  {
   "cell_type": "code",
   "execution_count": null,
   "metadata": {},
   "outputs": [],
   "source": [
    "try:\n",
    "    print(\"Try statement works\")\n",
    "except:\n",
    "    print(\"Error!\")\n",
    "else:\n",
    "    print(\"This prints if no error\")\n",
    "finally:\n",
    "    print(\"This always prints no matter what\")"
   ]
  },
  {
   "cell_type": "code",
   "execution_count": null,
   "metadata": {},
   "outputs": [],
   "source": [
    "try:\n",
    "    print(undeclaredvalue)\n",
    "except: \n",
    "    print(\"Error!\")\n",
    "    #raise\n",
    "else:\n",
    "    print(\"This prints if no error\")\n",
    "finally:\n",
    "    print(\"This always prints no matter what, even with raise on except\")"
   ]
  },
  {
   "cell_type": "code",
   "execution_count": null,
   "metadata": {},
   "outputs": [],
   "source": [
    "def returns():\n",
    "    try:\n",
    "        print(qw)\n",
    "        return \"Try\"\n",
    "    except:\n",
    "        return \"hi\"\n",
    "    else:\n",
    "        return \"else\"\n",
    "    finally:\n",
    "        print(\"Finally block\")\n",
    "        return \"Finally\""
   ]
  },
  {
   "cell_type": "markdown",
   "metadata": {},
   "source": [
    "- Notice return in finally overrides try return!     \n",
    "- Questionable practice to have a return or other exit actions in finally block "
   ]
  },
  {
   "cell_type": "code",
   "execution_count": null,
   "metadata": {},
   "outputs": [],
   "source": [
    "returns() "
   ]
  },
  {
   "cell_type": "markdown",
   "metadata": {},
   "source": [
    "# * and ** usages\n",
    "\n",
    "- \\* denotes unpacking/packing all items in a list    \n",
    "- ** denotes unpacking/packing all items in keyword style arguments    \n",
    "- Lots of creative ways to use unpackaging/packing \n",
    "- Play around with * and ** on inputs call with nums and dict"
   ]
  },
  {
   "cell_type": "code",
   "execution_count": null,
   "metadata": {},
   "outputs": [],
   "source": [
    "# Accept all inputs\n",
    "def inputs(*args, **kwargs):\n",
    "    print(\"args = \", args)\n",
    "    print(\"kwargs = \", kwargs)"
   ]
  },
  {
   "cell_type": "code",
   "execution_count": null,
   "metadata": {},
   "outputs": [],
   "source": [
    "nums = [1, 3, [5, 7]]\n",
    "dictionary = {'a':\"one\", 'c':\"three\"}\n",
    "inputs(nums, dictionary) "
   ]
  },
  {
   "cell_type": "code",
   "execution_count": null,
   "metadata": {},
   "outputs": [],
   "source": [
    "def inputs(*args, a = None, b = None):\n",
    "    print(\"args = \", args)\n",
    "    print(a)\n",
    "    print(b)"
   ]
  },
  {
   "cell_type": "code",
   "execution_count": null,
   "metadata": {},
   "outputs": [],
   "source": [
    "nums = [1, 3, [5, 7]]\n",
    "dictionary = {'a':\"one\", 'b':\"three\"}\n",
    "inputs(nums, **dictionary) #a = dictionary[\"a\"], b = dictionary[\"b\"]) "
   ]
  },
  {
   "cell_type": "markdown",
   "metadata": {},
   "source": [
    "- using * to ignore various items from input... allows you to \"package\" all remaining items in a sequence  \n"
   ]
  },
  {
   "cell_type": "code",
   "execution_count": null,
   "metadata": {},
   "outputs": [],
   "source": [
    "record = ('Actual Information', 'Buzzwords', 'Time Cards', 'Executive Jargon', (\"Sales People\", \"other\", 30823))\n",
    "information, *_, (*noise, middle, record_id) = record \n",
    "\n",
    "print(\"Ignored: {}, {}\".format(_, noise))\n",
    "print(\"Processed: '{}', Record ID: {}\".format(information, record_id))"
   ]
  },
  {
   "cell_type": "markdown",
   "metadata": {},
   "source": [
    "- Using * to \"repack\" will always return a list even when empty"
   ]
  },
  {
   "cell_type": "code",
   "execution_count": null,
   "metadata": {},
   "outputs": [],
   "source": [
    "# * is always a list\n",
    "data, *extra = (12,)\n",
    "extra"
   ]
  },
  {
   "cell_type": "markdown",
   "metadata": {},
   "source": [
    "- Force keyword arguments in function calls by using *... Can not use source or destination without keyword calls\n",
    "- Use this for forcing more readable function calls other places in the code  \n",
    "- Aka ambiguous calls like inputs(\"Wednesday\", \"52F\", \"1V6\") \n",
    "- become more readable... inputs(\"Wednesday\", source = \"52F\", destination = \"1V6\")"
   ]
  },
  {
   "cell_type": "code",
   "execution_count": null,
   "metadata": {},
   "outputs": [],
   "source": [
    "def inputs(date, *, source = None, destination = None):\n",
    "    print(date)\n",
    "    print(\"Source: \", source)\n",
    "    print(\"Destination: \", destination)"
   ]
  },
  {
   "cell_type": "code",
   "execution_count": null,
   "metadata": {},
   "outputs": [],
   "source": [
    "inputs(\"July 16, 1969\", source = \"Earth\", destination = \"The Moon\")\n",
    "#inputs(\"July 16, 1969\", \"Earth\", \"The Moon\") # Will crash without source and destination keyword arguments\n",
    "# inputs(\"July 16, 1969\") # Works with default values of None, but None is no fun in this case "
   ]
  },
  {
   "cell_type": "markdown",
   "metadata": {},
   "source": [
    "# Iteration\n",
    "\n",
    "- An iterator is an object that can access elements in a container one at a time\n",
    "- This is done by calling \\__next__ until a StopIteration exception is raised\n",
    "- We'll deep dive on this and other magic methods that make iteration work in the classes talk\n",
    "- An object with iter() support is said to be \"iterable\"\n",
    "- tldr: make for loops loop "
   ]
  },
  {
   "cell_type": "code",
   "execution_count": null,
   "metadata": {},
   "outputs": [],
   "source": [
    "iter??"
   ]
  },
  {
   "cell_type": "markdown",
   "metadata": {},
   "source": [
    "- For loop under the covers... for item in iterable: \n",
    "- Iter as has a sentinel value option for callable objects"
   ]
  },
  {
   "cell_type": "code",
   "execution_count": null,
   "metadata": {},
   "outputs": [],
   "source": [
    "numbers = [1, 2, 3]\n",
    "iterator = iter(numbers)\n",
    "\n",
    "while True:\n",
    "    try:\n",
    "        item = iterator.__next__()\n",
    "        print(item)\n",
    "        \n",
    "    except StopIteration:\n",
    "        print(\"End of loop\")\n",
    "        break"
   ]
  },
  {
   "cell_type": "markdown",
   "metadata": {},
   "source": [
    "# Enumerate \n",
    "• Builtin loop counting, more pythonic than i = 0, i+=1 in loop...    \n",
    "• usage: number, value = enumerate(iterable, optional starting number)    \n",
    "• No count in increment option that I'm aware of... can make your own if desired"
   ]
  },
  {
   "cell_type": "code",
   "execution_count": null,
   "metadata": {},
   "outputs": [],
   "source": [
    "pantone = [\"Serenity\", \"Greenery\", \"Ultra Violet\", \"Living Coral\"]\n",
    "for year, color in enumerate(pantone, 2016): \n",
    "    print(\"{} : {}\".format(year, color))"
   ]
  },
  {
   "cell_type": "markdown",
   "metadata": {},
   "source": [
    "# Itertools\n",
    "\n",
    "- Included in the standard library with lots of helpful functions. We'll see chain, zip_longest, islice, and some others down below\n",
    "- Good for comination based iterators "
   ]
  },
  {
   "cell_type": "code",
   "execution_count": null,
   "metadata": {},
   "outputs": [],
   "source": [
    "import itertools\n",
    "dir(itertools)"
   ]
  },
  {
   "cell_type": "code",
   "execution_count": null,
   "metadata": {},
   "outputs": [],
   "source": [
    "print(list(itertools.product(\"ab\", repeat=2)))\n",
    "print(list(itertools.permutations('ab', 2)))\n",
    "print(list(itertools.combinations('ab', 2)))\n",
    "print(list(itertools.combinations_with_replacement('ab', 2)))"
   ]
  },
  {
   "cell_type": "markdown",
   "metadata": {},
   "source": [
    "# Collections iterable"
   ]
  },
  {
   "cell_type": "code",
   "execution_count": null,
   "metadata": {},
   "outputs": [],
   "source": [
    "from collections.abc import Iterable\n",
    "# Unnest a list\n",
    "def unnest(items, ignore = (bytes, str)):\n",
    "    for item in items:\n",
    "        if isinstance(item, Iterable) and not isinstance(item, ignore):\n",
    "            yield from unnest(item, ignore)\n",
    "        else:\n",
    "            yield item"
   ]
  },
  {
   "cell_type": "markdown",
   "metadata": {},
   "source": [
    "• Extract values from a nested list\n"
   ]
  },
  {
   "cell_type": "code",
   "execution_count": null,
   "metadata": {
    "scrolled": true
   },
   "outputs": [],
   "source": [
    "items = [1, 2, ['word', 'b', [5, 6], 7], 8]\n",
    "for item in unnest(items):\n",
    "    print(item, end = ' ')"
   ]
  },
  {
   "cell_type": "markdown",
   "metadata": {},
   "source": [
    "• Extract values form a nested dict"
   ]
  },
  {
   "cell_type": "code",
   "execution_count": null,
   "metadata": {},
   "outputs": [],
   "source": [
    "def unnest_(dict_):\n",
    "    for key, value in dict_.items():\n",
    "        if isinstance(value, dict):\n",
    "            yield from unnest_(value)\n",
    "        else:\n",
    "            yield value"
   ]
  },
  {
   "cell_type": "code",
   "execution_count": null,
   "metadata": {},
   "outputs": [],
   "source": [
    "nested = {'a':{'b':\"one\", 'c':\"two\"}, 'd':{'e':\"three\", 'f':{'g':\"four\", 'h':{'i':\"five\"}}}}\n",
    "for item in unnest_(nested):\n",
    "    print(item, end = ' ')"
   ]
  },
  {
   "cell_type": "markdown",
   "metadata": {},
   "source": [
    "# A few built in functions \n",
    "\n",
    "- Zip, filter, map\n",
    "- Other options include reduce, compress, etc...\n",
    "- Python 2 returns a list, python 3 iterators\n",
    "- Although generally comprehension is preferable over map, filter, and similar operations"
   ]
  },
  {
   "cell_type": "code",
   "execution_count": null,
   "metadata": {},
   "outputs": [],
   "source": [
    "a = [5, 9, 2, 4, 7, 0, 100]\n",
    "b = [3, 7, 1, 9, 2, 0]\n",
    "c = [6, 8, 0, 5, 3]"
   ]
  },
  {
   "cell_type": "code",
   "execution_count": null,
   "metadata": {},
   "outputs": [],
   "source": [
    "list(zip(a, b, c))"
   ]
  },
  {
   "cell_type": "code",
   "execution_count": null,
   "metadata": {},
   "outputs": [],
   "source": [
    "import itertools\n",
    "list(itertools.zip_longest(a,b,c, fillvalue=0))"
   ]
  },
  {
   "cell_type": "code",
   "execution_count": null,
   "metadata": {},
   "outputs": [],
   "source": [
    "maxs = map(max, zip(a, b, c))\n",
    "print(list(maxs))"
   ]
  },
  {
   "cell_type": "markdown",
   "metadata": {},
   "source": [
    "• Preview to list comprehension, which is usually more readable... \n"
   ]
  },
  {
   "cell_type": "code",
   "execution_count": null,
   "metadata": {},
   "outputs": [],
   "source": [
    "maxs = [max(n) for n in zip(a,b,c)]\n",
    "print(maxs)"
   ]
  },
  {
   "cell_type": "code",
   "execution_count": null,
   "metadata": {},
   "outputs": [],
   "source": [
    "test = [2, 5, 8, 0, 0, 1, 0]\n",
    "print(list(filter(None, test)))\n",
    "print(list(filter(lambda x: x > 4, test)))"
   ]
  },
  {
   "cell_type": "markdown",
   "metadata": {},
   "source": [
    "# Comprehension\n",
    "\n",
    "- Python one liners for loops\n",
    "- Usable on dictionaries, lists, sets, and more     \n",
    "- Nested for loop comprehension is doable, but usual not used due to lack of readability\n",
    "- Optional if statements allow for filtering"
   ]
  },
  {
   "cell_type": "code",
   "execution_count": null,
   "metadata": {},
   "outputs": [],
   "source": [
    "numbers = [1,2,3,4,5,6,7,8,9]\n",
    "small_numbers = []\n",
    "for num in numbers:\n",
    "    if num < 5:\n",
    "        small_numbers.append(num)\n",
    "print(small_numbers)"
   ]
  },
  {
   "cell_type": "markdown",
   "metadata": {},
   "source": [
    "- Corresponding list comprehension \n"
   ]
  },
  {
   "cell_type": "code",
   "execution_count": null,
   "metadata": {},
   "outputs": [],
   "source": [
    "numbers = [1,2,3,4,5,6,7,8,9]\n",
    "small_numbers = [num for num in numbers if num < 5] # optional if statement \n",
    "print(small_numbers)"
   ]
  },
  {
   "cell_type": "markdown",
   "metadata": {},
   "source": [
    "- Nested for loop example:"
   ]
  },
  {
   "cell_type": "code",
   "execution_count": null,
   "metadata": {},
   "outputs": [],
   "source": [
    "result = []\n",
    "for letter in [\"a\", \"b\"]:\n",
    "    for number in [1, 2]:\n",
    "        result.append(letter + str(number))\n",
    "result"
   ]
  },
  {
   "cell_type": "markdown",
   "metadata": {},
   "source": [
    "- Corresponding list comprehension \n",
    "- Very quickly gets difficult to read... "
   ]
  },
  {
   "cell_type": "code",
   "execution_count": null,
   "metadata": {
    "scrolled": true
   },
   "outputs": [],
   "source": [
    "result = [letter + str(number) for letter in [\"a\", \"b\"] for number in [1, 2]]\n",
    "result"
   ]
  },
  {
   "cell_type": "markdown",
   "metadata": {},
   "source": [
    "- Generator comprehension is similar to list, but uses () vs []\n",
    "- We'll see generators below shortly"
   ]
  },
  {
   "cell_type": "code",
   "execution_count": null,
   "metadata": {},
   "outputs": [],
   "source": [
    "squared = (num ** 2 for num in [1,2,3,4])\n",
    "squared"
   ]
  },
  {
   "cell_type": "markdown",
   "metadata": {},
   "source": [
    "- Dict comprehension with enumerate\n"
   ]
  },
  {
   "cell_type": "code",
   "execution_count": null,
   "metadata": {},
   "outputs": [],
   "source": [
    "people = [\"Zeus\", \"Athena\", \"Apollo\", \"Poseidon\"]\n",
    "symbols = [\"Thunderbolt\", \"Wisdom\", \"Sun\", \"Sea\"]\n",
    "dictionary = {name: symb for name, symb in zip(people, symbols)}\n",
    "dictionary"
   ]
  },
  {
   "cell_type": "markdown",
   "metadata": {},
   "source": [
    "# Generators\n",
    "\n",
    "- Easy way to create an iterator with some extra benefits\n",
    "- No need to worry about defining iter, next, and stop iteration exception \n",
    "- Care needs to be taken to avoid \"exhausting\" generators, once consumed the data no longer exist\n",
    "- Save to variables as needed, but using results = list(generator) defeats the purpose if trying to save memory\n"
   ]
  },
  {
   "cell_type": "code",
   "execution_count": null,
   "metadata": {},
   "outputs": [],
   "source": [
    "def gen_func(list_):\n",
    "    for item in list_:\n",
    "        yield item\n",
    "        \n",
    "# Equivalent yield from \n",
    "def gen_func_py3(list_):\n",
    "    # yield from available in python 3.3+\n",
    "    yield from list_"
   ]
  },
  {
   "cell_type": "markdown",
   "metadata": {},
   "source": [
    "- Example with predefined list.. "
   ]
  },
  {
   "cell_type": "code",
   "execution_count": null,
   "metadata": {},
   "outputs": [],
   "source": [
    "list_ = [1,2,3,4,5,6]\n",
    "gen = gen_func(list_)\n",
    "print(gen)"
   ]
  },
  {
   "cell_type": "markdown",
   "metadata": {},
   "source": [
    "- Grab the next value from the generator\n"
   ]
  },
  {
   "cell_type": "code",
   "execution_count": null,
   "metadata": {},
   "outputs": [],
   "source": [
    "print(next(gen))"
   ]
  },
  {
   "cell_type": "markdown",
   "metadata": {},
   "source": [
    "- Exhaust a generator by forcing it into a list... Can crash for large generators \n"
   ]
  },
  {
   "cell_type": "code",
   "execution_count": null,
   "metadata": {},
   "outputs": [],
   "source": [
    "print(list(gen)) "
   ]
  },
  {
   "cell_type": "markdown",
   "metadata": {},
   "source": [
    "- Stop Iteration error after end of generator\n"
   ]
  },
  {
   "cell_type": "code",
   "execution_count": null,
   "metadata": {},
   "outputs": [],
   "source": [
    "print(next(gen))"
   ]
  },
  {
   "cell_type": "markdown",
   "metadata": {},
   "source": [
    "- Create a generator without yield "
   ]
  },
  {
   "cell_type": "code",
   "execution_count": null,
   "metadata": {},
   "outputs": [],
   "source": [
    "from sys import getsizeof # Memory check size of generator vs list in bytes \n",
    "list_ = [x for x in range(10000000)] # [] is used for list construction \n",
    "generator = (x for x in range(10000000)) # () if used for generator construction \n",
    "\n",
    "print(\"List memory footprint: \", getsizeof(list_))\n",
    "print(\"Generator memory footprint: \", getsizeof(generator))"
   ]
  },
  {
   "cell_type": "markdown",
   "metadata": {},
   "source": [
    "- Easy to chain together several generators for fast processing over potentially very large data sets"
   ]
  },
  {
   "cell_type": "code",
   "execution_count": null,
   "metadata": {},
   "outputs": [],
   "source": [
    "import itertools as it\n",
    "divmods = (divmod(x,5) for x in range(100000000000000000000000000000000)) # Really big generator\n",
    "remains = (remainder for n, remainder in divmods) # Create a generator from a generator...! \n",
    "print(\"remains\", remains) \n",
    "print(list(it.islice(remains, 0, 10))) # Runs just fine, and quickly!"
   ]
  },
  {
   "cell_type": "markdown",
   "metadata": {},
   "source": [
    "- Functions such as iterools chain let us step through multiple objects one value at a time\n",
    "- Generators make turning bulk data calls into single value loops easy as well"
   ]
  },
  {
   "cell_type": "code",
   "execution_count": null,
   "metadata": {},
   "outputs": [],
   "source": [
    "# Same logic as itertools chain\n",
    "def chain(*args):\n",
    "    for arg in args:\n",
    "        yield from arg"
   ]
  },
  {
   "cell_type": "code",
   "execution_count": null,
   "metadata": {},
   "outputs": [],
   "source": [
    "numbers = [1, 2, 4, 5]\n",
    "letters = ['a', 'b', 'c', 'd', 'e', 'f']\n",
    "for item in chain(numbers, letters):\n",
    "    print(item, end = ' ')"
   ]
  },
  {
   "cell_type": "markdown",
   "metadata": {},
   "source": [
    "- Pulling a few items together... Let's write a simple brute force password generator     "
   ]
  },
  {
   "cell_type": "code",
   "execution_count": null,
   "metadata": {},
   "outputs": [],
   "source": [
    "import itertools as it\n",
    "import string\n",
    "\n",
    "def brute(*, chars = string.printable, length = 30, bottom = 1, start = ''):\n",
    "    \"\"\" Brute force password generator\"\"\"\n",
    "    while bottom <= length:\n",
    "        for password in it.product(chars, repeat = bottom):\n",
    "            yield start + ''.join(password)\n",
    "        bottom += 1 "
   ]
  },
  {
   "cell_type": "code",
   "execution_count": null,
   "metadata": {},
   "outputs": [],
   "source": [
    "print(list(brute(chars = '123', length=3, bottom=3)))"
   ]
  },
  {
   "cell_type": "code",
   "execution_count": null,
   "metadata": {},
   "outputs": [],
   "source": [
    "passwords = brute(chars = 'abc', bottom = 4, length = 4)\n",
    "passwords"
   ]
  },
  {
   "cell_type": "code",
   "execution_count": null,
   "metadata": {
    "scrolled": true
   },
   "outputs": [],
   "source": [
    "chunk = list(it.islice(passwords, 0, 10)) # Grab a one time chunk of 10 items from generator\n",
    "print(*chunk, sep = ', ')"
   ]
  },
  {
   "cell_type": "code",
   "execution_count": null,
   "metadata": {},
   "outputs": [],
   "source": [
    "def chunkify(generator, chunks):\n",
    "    \"\"\"Hackish way of iterating chunks of a generator...\"\"\"\n",
    "    while True:\n",
    "        try:\n",
    "            first = [next(generator)] # Needed to check for end of generator\n",
    "            # Grab the rest, will return [] if exhausted, no StopIteration warnings from it.islice\n",
    "            rest = it.islice(generator, 0, chunks - 1)\n",
    "            yield first + list(rest)\n",
    "        except StopIteration:\n",
    "            print(\"End of generator has been reached\")\n",
    "            break"
   ]
  },
  {
   "cell_type": "code",
   "execution_count": null,
   "metadata": {},
   "outputs": [],
   "source": [
    "from sys import getsizeof\n",
    "passwords = brute(chars = 'abc', bottom = 4, length = 4)\n",
    "\n",
    "chunks = chunkify(passwords, chunks = 10)\n",
    "print(\"Size of new chunkify function\", getsizeof(chunks))"
   ]
  },
  {
   "cell_type": "code",
   "execution_count": null,
   "metadata": {},
   "outputs": [],
   "source": [
    "for batch, chunk in enumerate(chunks):\n",
    "    print(\"{:<2} {}, Size of chunk: {}\".format(batch, chunk, getsizeof(chunk)))"
   ]
  },
  {
   "cell_type": "markdown",
   "metadata": {},
   "source": [
    "- Create a unix tail -f like feature for python using yields to wait for data inputs\n",
    "- This is getting more towards coroutines and asyncio territory... "
   ]
  },
  {
   "cell_type": "code",
   "execution_count": null,
   "metadata": {},
   "outputs": [],
   "source": [
    "def tail(filename):\n",
    "    while True:\n",
    "        item = yield\n",
    "        print(\"{}: {}\".format(filename, item))"
   ]
  },
  {
   "cell_type": "code",
   "execution_count": null,
   "metadata": {},
   "outputs": [],
   "source": [
    "s = tail(\"/var/log/debug.log\")\n",
    "next(s) #initialize \n",
    "s.send(404)"
   ]
  },
  {
   "cell_type": "code",
   "execution_count": null,
   "metadata": {},
   "outputs": [],
   "source": [
    "s.send(\"Tachyons\")"
   ]
  },
  {
   "cell_type": "code",
   "execution_count": null,
   "metadata": {},
   "outputs": [],
   "source": [
    "s.close() # Close generator out "
   ]
  },
  {
   "cell_type": "markdown",
   "metadata": {},
   "source": [
    "# Closures\n",
    "- Higher order functions that retain values in a mutable variable   \n",
    "- Python 3.?+ allows for use of nonlocal variable "
   ]
  },
  {
   "cell_type": "code",
   "execution_count": null,
   "metadata": {},
   "outputs": [],
   "source": [
    "def closure():\n",
    "    storage = [] # Must be mutable to retain state in avg func\n",
    "    \n",
    "    def avg(number):\n",
    "        \n",
    "        storage.append(number)\n",
    "        return sum(storage) / len(storage)\n",
    "    \n",
    "    return avg\n",
    "\n",
    "avg = closure()"
   ]
  },
  {
   "cell_type": "code",
   "execution_count": null,
   "metadata": {},
   "outputs": [],
   "source": [
    "avg(50)\n",
    "avg(100)\n",
    "avg(100)"
   ]
  },
  {
   "cell_type": "code",
   "execution_count": null,
   "metadata": {},
   "outputs": [],
   "source": [
    "def closure():\n",
    "    total = 0 \n",
    "    count = 0 \n",
    "    \n",
    "    def avg(number):\n",
    "        nonlocal total \n",
    "        nonlocal count\n",
    "        total += number # Only possible with nonlocal \n",
    "        count += 1 # Only possible with nonlocal \n",
    "        return total / count\n",
    "    return avg\n",
    "\n",
    "avg = closure()"
   ]
  },
  {
   "cell_type": "code",
   "execution_count": null,
   "metadata": {},
   "outputs": [],
   "source": [
    "avg(50)\n",
    "avg(200)"
   ]
  },
  {
   "cell_type": "markdown",
   "metadata": {},
   "source": [
    "# Decorators\n",
    "\n",
    "- Logic for wrapping function calls to add extra logic\n",
    "- Used extensively in the builtin libraries  \n",
    "- Reason you might decorate: logging, profiling, timing, arg checking, legacy updates, etc... "
   ]
  },
  {
   "cell_type": "code",
   "execution_count": null,
   "metadata": {},
   "outputs": [],
   "source": [
    "# Decorator logic without special @ designator \n",
    "\n",
    "def print_inputs(func):\n",
    "    print(\"decorating \", func) \n",
    "    print(\"This code block only executes once on decorator creation\")\n",
    "    \n",
    "    def anyname(*args, **kwargs):\n",
    "        print(\"****** Running anyname ******\")\n",
    "        print(\"Inputs:\", *args, **kwargs)\n",
    "        print(\"Cached func:\", func)\n",
    "        return func(*args, **kwargs)\n",
    "    \n",
    "    return anyname \n",
    "\n",
    "def chain(*args):\n",
    "    \"\"\"Chain together several args\"\"\"\n",
    "    for arg in args:\n",
    "        yield from arg\n",
    "    \n",
    "\n",
    "# Override the function name chain with what print_inputs(chain) returns\n",
    "# print_inputs returns a new function \"anyname\" that accepts all inputs and executes the original chain function\n",
    "# Calling chain() is now anyname(), which prints the inputs and then calls the original function chain\n",
    "# Which is slightly confusing since we overrode chain, but python keeps a pointer to the original function in anyname \n",
    "print(\"Original chain:\", chain)\n",
    "chain = print_inputs(chain) \n",
    "print(\"New chain:\", chain)"
   ]
  },
  {
   "cell_type": "code",
   "execution_count": null,
   "metadata": {},
   "outputs": [],
   "source": [
    "nums1 = [1, 2, 3, 4]\n",
    "nums2 = [5, 6, 7, 8]\n",
    "result = chain(nums1, nums2)\n",
    "print(list(result))"
   ]
  },
  {
   "cell_type": "markdown",
   "metadata": {},
   "source": [
    "• Decorator notation equivalent \n"
   ]
  },
  {
   "cell_type": "code",
   "execution_count": null,
   "metadata": {},
   "outputs": [],
   "source": [
    "def print_inputs(func):  \n",
    "    print(\"decorating \", func) \n",
    "    print(\"This code block only executes once on decorator creation\")\n",
    "    \n",
    "    def anyname(*args, **kwargs):\n",
    "        \"\"\"This is anyname\"\"\"\n",
    "        print(\"****** Running anyname ******\")\n",
    "        print(\"Inputs:\", *args, **kwargs)\n",
    "        return func(*args, **kwargs)\n",
    "    \n",
    "    return anyname\n",
    "\n",
    "@print_inputs\n",
    "def chain(*args):\n",
    "    \"\"\"Chain together several args\"\"\"\n",
    "    for arg in args:\n",
    "        yield from arg"
   ]
  },
  {
   "cell_type": "code",
   "execution_count": null,
   "metadata": {},
   "outputs": [],
   "source": [
    "nums1 = [1, 2, 3, 4]\n",
    "nums2 = [5, 6, 7, 8]\n",
    "result = chain(nums1, nums2)\n",
    "print(list(result))"
   ]
  },
  {
   "cell_type": "markdown",
   "metadata": {},
   "source": [
    "• However we're not done yet... calling info on chain only returns info from anyname\n"
   ]
  },
  {
   "cell_type": "code",
   "execution_count": null,
   "metadata": {},
   "outputs": [],
   "source": [
    "print('Func doc string:', chain.__doc__)\n",
    "print('Func name:', chain.__name__)"
   ]
  },
  {
   "cell_type": "markdown",
   "metadata": {},
   "source": [
    "• Adding wraps(func) decorator allows us to pass chain function info to anyname... Can view code for this in py docs\n"
   ]
  },
  {
   "cell_type": "code",
   "execution_count": null,
   "metadata": {},
   "outputs": [],
   "source": [
    "from functools import wraps\n",
    "import time\n",
    "\n",
    "def print_inputs(func):    \n",
    "    \n",
    "    @wraps(func) # Decorator to pass function information \n",
    "    def anyname(*args, **kwargs):\n",
    "        \"\"\"This is anyname\"\"\"\n",
    "        print(\"****** Running anyname ******\")\n",
    "        print(\"Inputs:\", *args, **kwargs)\n",
    "        return func(*args, **kwargs)\n",
    "    \n",
    "    return anyname\n",
    "\n",
    "\n",
    "@print_inputs\n",
    "def chain(*args):\n",
    "    \"\"\"Chain together several args\"\"\"\n",
    "    for arg in args:\n",
    "        yield from arg"
   ]
  },
  {
   "cell_type": "code",
   "execution_count": null,
   "metadata": {},
   "outputs": [],
   "source": [
    "nums1 = [1, 2, 3, 4]\n",
    "nums2 = [5, 6, 7, 8]\n",
    "result = chain(nums1, nums2)\n",
    "print(list(result))"
   ]
  },
  {
   "cell_type": "code",
   "execution_count": null,
   "metadata": {},
   "outputs": [],
   "source": [
    "print('Func doc string:', chain.__doc__)\n",
    "print('Func name:', chain.__name__)"
   ]
  },
  {
   "cell_type": "markdown",
   "metadata": {},
   "source": [
    "- Let's add multiple decorators...\n",
    "- Decorators stack calling the decorator closest to the function first and then outward"
   ]
  },
  {
   "cell_type": "code",
   "execution_count": null,
   "metadata": {},
   "outputs": [],
   "source": [
    "from functools import wraps\n",
    "import time\n",
    "\n",
    "def print_inputs(func):    \n",
    "    @wraps(func) # Decorator to pass function information \n",
    "    def anyname(*arg, **kwargs):\n",
    "        \"\"\"This is anyname\"\"\"\n",
    "        print(\"****** Running anyname ******\")\n",
    "        print(\"Inputs:\", *arg, **kwargs)\n",
    "        return func(*arg, **kwargs)\n",
    "    return anyname\n",
    "\n",
    "def timeit(func):    \n",
    "    @wraps(func) # Decorator to pass function information \n",
    "    def timing(*args, **kwargs):\n",
    "        \"\"\"This is timing\"\"\"\n",
    "        print(\"****** Starting timer ******\")\n",
    "        start = time.time()\n",
    "        results = func(*args, **kwargs)\n",
    "        end = time.time()\n",
    "        print(\"Time to run {} = {} seconds\".format(func.__name__, end - start))\n",
    "        return results\n",
    "    return timing\n",
    "\n",
    "@timeit\n",
    "@print_inputs\n",
    "def chain(*args):\n",
    "    \"\"\"Chain together several args\"\"\"\n",
    "    for arg in args:\n",
    "        yield from arg\n",
    "        \n",
    "@timeit       \n",
    "@print_inputs\n",
    "def another_function():\n",
    "    print(\"Sleeping for 5\")\n",
    "    time.sleep(5)\n",
    "    return True\n",
    "\n",
    "# This is the same as another_function = timeit(print_inputs(another_function))"
   ]
  },
  {
   "cell_type": "code",
   "execution_count": null,
   "metadata": {},
   "outputs": [],
   "source": [
    "print('Func name:', chain.__name__)\n",
    "print('Func doc string:', chain.__doc__, \"\\n\")\n",
    "\n",
    "nums1 = [1, 2, 3, 4]\n",
    "nums2 = [5, 6, 7, 8]\n",
    "result = chain(nums1, nums2)\n",
    "print(list(result))"
   ]
  },
  {
   "cell_type": "code",
   "execution_count": null,
   "metadata": {},
   "outputs": [],
   "source": [
    "orig_chain = chain.__wrapped__.__wrapped__ # use wrapped to ignore a layer of decoration\n",
    "result = orig_chain(nums1, nums2)\n",
    "print(list(result))"
   ]
  },
  {
   "cell_type": "code",
   "execution_count": null,
   "metadata": {},
   "outputs": [],
   "source": [
    "new = another_function #.__wrapped__.__wrapped__\n",
    "new()"
   ]
  },
  {
   "cell_type": "markdown",
   "metadata": {},
   "source": [
    "### Using a class, basic example without wraps"
   ]
  },
  {
   "cell_type": "code",
   "execution_count": null,
   "metadata": {},
   "outputs": [],
   "source": [
    "import time\n",
    "\n",
    "class TimeIt(object):\n",
    "\n",
    "    def __init__(self, func):\n",
    "        print(\"init\")\n",
    "        self.wrapped = func\n",
    "        \n",
    "    def __call__(self, *args, **kwargs):\n",
    "        print(\"****** Starting timer ******\")\n",
    "        start = time.time()\n",
    "        results = self.wrapped(*args, **kwargs)\n",
    "        end = time.time()\n",
    "        print(\"Time to run {} = {} seconds\".format(self.wrapped.__name__, end - start))\n",
    "        return results\n",
    "\n",
    "@TimeIt\n",
    "def chain(*args):\n",
    "    \"\"\"Chain together several args\"\"\"\n",
    "    for arg in args:\n",
    "        yield from arg"
   ]
  },
  {
   "cell_type": "code",
   "execution_count": null,
   "metadata": {},
   "outputs": [],
   "source": [
    "nums1 = [1, 2, 3, 4]\n",
    "nums2 = [5, 6, 7, 8]\n",
    "chain(nums1, nums2)"
   ]
  },
  {
   "cell_type": "code",
   "execution_count": null,
   "metadata": {},
   "outputs": [],
   "source": [
    "print(chain.__doc__)"
   ]
  },
  {
   "cell_type": "markdown",
   "metadata": {},
   "source": [
    "- Using an enhanced class"
   ]
  },
  {
   "cell_type": "code",
   "execution_count": null,
   "metadata": {},
   "outputs": [],
   "source": [
    "import types\n",
    "from functools import wraps\n",
    "\n",
    "class TimeIt:\n",
    "    def __init__(self, func):\n",
    "        self.wrapped = func\n",
    "        wraps(func)(self)\n",
    "\n",
    "    def __call__(self, *args, **kwargs):\n",
    "        print(\"****** Starting timer ******\")\n",
    "        start = time.time()\n",
    "        results = self.wrapped(*args, **kwargs)\n",
    "        end = time.time()\n",
    "        print(\"Time to run {} = {} seconds\".format(self.wrapped.__name__, end - start))\n",
    "        return results\n",
    "\n",
    "    def __get__(self, instance, cls):\n",
    "        if instance is None:\n",
    "            return self\n",
    "        else:\n",
    "            return types.MethodType(self, instance)\n",
    "        \n",
    "@TimeIt\n",
    "def chain(*args):\n",
    "    \"\"\"Chain together several args\"\"\"\n",
    "    for arg in args:\n",
    "        yield from arg"
   ]
  },
  {
   "cell_type": "code",
   "execution_count": null,
   "metadata": {},
   "outputs": [],
   "source": [
    "nums1 = [1, 2, 3, 4]\n",
    "nums2 = [5, 6, 7, 8]\n",
    "result = chain(nums1, nums2)"
   ]
  },
  {
   "cell_type": "code",
   "execution_count": null,
   "metadata": {},
   "outputs": [],
   "source": [
    "print(chain.__doc__)"
   ]
  },
  {
   "cell_type": "markdown",
   "metadata": {},
   "source": [
    "# Lambda Functions\n",
    "\n",
    "- Single line anonymous functions    \n",
    "- Several usages show in rest of python notebooks    \n",
    "- Common to use in arguments where a single function is needed    "
   ]
  },
  {
   "cell_type": "code",
   "execution_count": null,
   "metadata": {
    "scrolled": true
   },
   "outputs": [],
   "source": [
    "def power(value):\n",
    "    return value ** 2\n",
    "\n",
    "print(\"Power:\", power(3))\n",
    "\n",
    "#equals\n",
    "g = lambda x: x**2\n",
    "print(\"Lambda:\", g(3))"
   ]
  },
  {
   "cell_type": "code",
   "execution_count": null,
   "metadata": {},
   "outputs": [],
   "source": [
    "(lambda x: x**2)(4)"
   ]
  },
  {
   "cell_type": "code",
   "execution_count": null,
   "metadata": {},
   "outputs": [],
   "source": [
    "f = lambda x, y: 3*x + y\n",
    "f(2,1)"
   ]
  },
  {
   "cell_type": "code",
   "execution_count": null,
   "metadata": {},
   "outputs": [],
   "source": [
    "x = 10\n",
    "y = 20\n",
    "f = lambda : x ** y"
   ]
  },
  {
   "cell_type": "code",
   "execution_count": null,
   "metadata": {},
   "outputs": [],
   "source": [
    "f()"
   ]
  },
  {
   "cell_type": "markdown",
   "metadata": {},
   "source": [
    "# Partial func tools\n",
    "- Make single arg function calls given partial data"
   ]
  },
  {
   "cell_type": "code",
   "execution_count": null,
   "metadata": {},
   "outputs": [],
   "source": [
    "from functools import partial\n",
    "import datetime\n",
    "\n",
    "def date_to_iso(value, fmt = '%m/%d/%y'):\n",
    "    \"\"\"Given a value and format return a date in iso format\"\"\"\n",
    "    try:\n",
    "        return datetime.datetime.strptime(value, fmt).isoformat()\n",
    "    except: \n",
    "        return value"
   ]
  },
  {
   "cell_type": "code",
   "execution_count": null,
   "metadata": {},
   "outputs": [],
   "source": [
    "dates = partial(date_to_iso, fmt = '%m/%d/%Y') \n",
    "dates(\"02/20/2020\")"
   ]
  },
  {
   "cell_type": "markdown",
   "metadata": {},
   "source": [
    "# Methodcaller\n",
    "- Turn builtin .functions into regular functions"
   ]
  },
  {
   "cell_type": "code",
   "execution_count": null,
   "metadata": {},
   "outputs": [],
   "source": [
    "from operator import methodcaller\n",
    "\n",
    "\"test\".replace(\",\", \"\")\n",
    "\n",
    "decomma = methodcaller(\"replace\", \",\", \"\")\n",
    "decomma(\"this, is, a, test\")"
   ]
  },
  {
   "cell_type": "markdown",
   "metadata": {},
   "source": [
    "#### Bringing a few items together...\n",
    "- An example moving more towards functional programming..."
   ]
  },
  {
   "cell_type": "code",
   "execution_count": null,
   "metadata": {},
   "outputs": [],
   "source": [
    "def process(funcs, data):\n",
    "    for func in funcs:\n",
    "        data = [func(point) for point in data]\n",
    "    return data"
   ]
  },
  {
   "cell_type": "code",
   "execution_count": null,
   "metadata": {},
   "outputs": [],
   "source": [
    "funcs = (decomma, dates)\n",
    "data = (\"01/23/2018,\", \"12/21/1982,\", \"04/24/2040,\")"
   ]
  },
  {
   "cell_type": "code",
   "execution_count": null,
   "metadata": {},
   "outputs": [],
   "source": [
    "list(process(funcs, data))"
   ]
  },
  {
   "cell_type": "code",
   "execution_count": null,
   "metadata": {},
   "outputs": [],
   "source": [
    "data"
   ]
  },
  {
   "cell_type": "markdown",
   "metadata": {},
   "source": [
    "# Lru cache\n",
    "- Since python 3.2\n",
    "- Notice speed up after uncommenting LRU cache"
   ]
  },
  {
   "cell_type": "code",
   "execution_count": null,
   "metadata": {},
   "outputs": [],
   "source": [
    "from functools import lru_cache\n",
    "\n",
    "#@lru_cache(maxsize=None)\n",
    "def fib(num): \n",
    "    if num in (0, 1):\n",
    "        return num\n",
    "    else:\n",
    "        return fib(num-1) + fib(num-2)"
   ]
  },
  {
   "cell_type": "code",
   "execution_count": null,
   "metadata": {},
   "outputs": [],
   "source": [
    "print([fib(n) for n in range(100)])"
   ]
  },
  {
   "cell_type": "code",
   "execution_count": null,
   "metadata": {},
   "outputs": [],
   "source": [
    "fib.cache_info()"
   ]
  },
  {
   "cell_type": "markdown",
   "metadata": {},
   "source": [
    "# With Statements\n",
    "\n",
    "- For opening files, locks, entry and exit and more...\n",
    "- Exit handles cleanup for us "
   ]
  },
  {
   "cell_type": "raw",
   "metadata": {},
   "source": [
    "Similar thing but for files... \n",
    "filepath =  # Filepath here..\n",
    "with open(filepath, 'r') as f: \n",
    "    \n",
    "    for line in f:\n",
    "        # process line"
   ]
  },
  {
   "cell_type": "code",
   "execution_count": null,
   "metadata": {},
   "outputs": [],
   "source": [
    "import time\n",
    "class enter_exit(object):\n",
    "    def __init__(self, wait):\n",
    "        self.wait = wait\n",
    "        \n",
    "    def __enter__(self):\n",
    "        print(\"__enter__() running\")\n",
    "        print(\"Sleeping for {}\\n\".format(self.wait))\n",
    "        time.sleep(self.wait)\n",
    "        \n",
    "    def __exit__(self, type_, value, traceback):\n",
    "        print(\"__exit__() running\")\n",
    "        print(\"Close out any open items here\")\n",
    "        return True\n",
    "    "
   ]
  },
  {
   "cell_type": "code",
   "execution_count": null,
   "metadata": {},
   "outputs": [],
   "source": [
    "with enter_exit(2):\n",
    "    print(\"Processing inside of the with statement...\")\n",
    "    print(\"Sleeping for 5\\n\")\n",
    "    time.sleep(5)\n"
   ]
  },
  {
   "cell_type": "markdown",
   "metadata": {},
   "source": [
    "• Similar concept for try except blocks using builtin contextmanager... \n"
   ]
  },
  {
   "cell_type": "code",
   "execution_count": null,
   "metadata": {},
   "outputs": [],
   "source": [
    "from contextlib import contextmanager\n",
    "from urllib.request import urlopen\n",
    "\n",
    "@contextmanager\n",
    "def view(webpage):\n",
    "    try:\n",
    "        yield webpage\n",
    "    finally:\n",
    "        webpage.close()\n",
    "\n",
    "with view(urlopen('http://www.python.org')) as webpage:\n",
    "    for num, row in enumerate(webpage):\n",
    "        print(row)\n",
    "        if num > 10:\n",
    "            break"
   ]
  },
  {
   "cell_type": "markdown",
   "metadata": {},
   "source": [
    "# Glob\n",
    "\n",
    "• In Python 3.5 and newer use the new recursive ** / functionality:  \n",
    "• Use glob + os to grab most recent file in a directory structure   \n",
    "• Use with care when recursive ** option is used in large directories   "
   ]
  },
  {
   "cell_type": "code",
   "execution_count": null,
   "metadata": {},
   "outputs": [],
   "source": [
    "import glob\n",
    "import os\n",
    "\n",
    "files = glob.glob('.... your filepath/**/*.py', recursive=True)\n",
    "latest = sorted(files, key=os.path.getmtime) # min or max dependent on system \n",
    "\n",
    "latest[-3:]"
   ]
  }
 ],
 "metadata": {
  "kernelspec": {
   "display_name": "Python 3",
   "language": "python",
   "name": "python3"
  },
  "language_info": {
   "codemirror_mode": {
    "name": "ipython",
    "version": 3
   },
   "file_extension": ".py",
   "mimetype": "text/x-python",
   "name": "python",
   "nbconvert_exporter": "python",
   "pygments_lexer": "ipython3",
   "version": "3.8.3"
  }
 },
 "nbformat": 4,
 "nbformat_minor": 2
}
